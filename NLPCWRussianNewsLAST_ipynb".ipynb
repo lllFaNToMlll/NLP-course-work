{
  "nbformat": 4,
  "nbformat_minor": 0,
  "metadata": {
    "accelerator": "GPU",
    "colab": {
      "name": "NLPCWRussianNewsLAST.ipynb\"",
      "provenance": [],
      "collapsed_sections": [],
      "include_colab_link": true
    },
    "kernelspec": {
      "display_name": "Python 3",
      "name": "python3"
    },
    "widgets": {
      "application/vnd.jupyter.widget-state+json": {
        "abc877d77d3c458eabfee4f351cbc1f9": {
          "model_module": "@jupyter-widgets/controls",
          "model_name": "HBoxModel",
          "state": {
            "_view_name": "HBoxView",
            "_dom_classes": [],
            "_model_name": "HBoxModel",
            "_view_module": "@jupyter-widgets/controls",
            "_model_module_version": "1.5.0",
            "_view_count": null,
            "_view_module_version": "1.5.0",
            "box_style": "",
            "layout": "IPY_MODEL_808b35345fa44fda8e56c7224e8d3a2b",
            "_model_module": "@jupyter-widgets/controls",
            "children": [
              "IPY_MODEL_1cc2ec880b164da89e62d680d5a0dac7",
              "IPY_MODEL_72e5101e81db4df6ac9006b6e0f105f3"
            ]
          }
        },
        "808b35345fa44fda8e56c7224e8d3a2b": {
          "model_module": "@jupyter-widgets/base",
          "model_name": "LayoutModel",
          "state": {
            "_view_name": "LayoutView",
            "grid_template_rows": null,
            "right": null,
            "justify_content": null,
            "_view_module": "@jupyter-widgets/base",
            "overflow": null,
            "_model_module_version": "1.2.0",
            "_view_count": null,
            "flex_flow": null,
            "width": null,
            "min_width": null,
            "border": null,
            "align_items": null,
            "bottom": null,
            "_model_module": "@jupyter-widgets/base",
            "top": null,
            "grid_column": null,
            "overflow_y": null,
            "overflow_x": null,
            "grid_auto_flow": null,
            "grid_area": null,
            "grid_template_columns": null,
            "flex": null,
            "_model_name": "LayoutModel",
            "justify_items": null,
            "grid_row": null,
            "max_height": null,
            "align_content": null,
            "visibility": null,
            "align_self": null,
            "height": null,
            "min_height": null,
            "padding": null,
            "grid_auto_rows": null,
            "grid_gap": null,
            "max_width": null,
            "order": null,
            "_view_module_version": "1.2.0",
            "grid_template_areas": null,
            "object_position": null,
            "object_fit": null,
            "grid_auto_columns": null,
            "margin": null,
            "display": null,
            "left": null
          }
        },
        "1cc2ec880b164da89e62d680d5a0dac7": {
          "model_module": "@jupyter-widgets/controls",
          "model_name": "FloatProgressModel",
          "state": {
            "_view_name": "ProgressView",
            "style": "IPY_MODEL_3c1c9db1f55c43bfa2b89cc004886e5e",
            "_dom_classes": [],
            "description": "",
            "_model_name": "FloatProgressModel",
            "bar_style": "success",
            "max": 1,
            "_view_module": "@jupyter-widgets/controls",
            "_model_module_version": "1.5.0",
            "value": 1,
            "_view_count": null,
            "_view_module_version": "1.5.0",
            "orientation": "horizontal",
            "min": 0,
            "description_tooltip": null,
            "_model_module": "@jupyter-widgets/controls",
            "layout": "IPY_MODEL_3a2709e76a5e47c08e281ea6f957ad60"
          }
        },
        "72e5101e81db4df6ac9006b6e0f105f3": {
          "model_module": "@jupyter-widgets/controls",
          "model_name": "HTMLModel",
          "state": {
            "_view_name": "HTMLView",
            "style": "IPY_MODEL_77ba7608b7de44ab93fc6cf71a290d32",
            "_dom_classes": [],
            "description": "",
            "_model_name": "HTMLModel",
            "placeholder": "​",
            "_view_module": "@jupyter-widgets/controls",
            "_model_module_version": "1.5.0",
            "value": " 1228876/? [18:14&lt;00:00, 1122.63it/s]",
            "_view_count": null,
            "_view_module_version": "1.5.0",
            "description_tooltip": null,
            "_model_module": "@jupyter-widgets/controls",
            "layout": "IPY_MODEL_8088e26f3a0a4b1a8a8b46b2204c37f5"
          }
        },
        "3c1c9db1f55c43bfa2b89cc004886e5e": {
          "model_module": "@jupyter-widgets/controls",
          "model_name": "ProgressStyleModel",
          "state": {
            "_view_name": "StyleView",
            "_model_name": "ProgressStyleModel",
            "description_width": "initial",
            "_view_module": "@jupyter-widgets/base",
            "_model_module_version": "1.5.0",
            "_view_count": null,
            "_view_module_version": "1.2.0",
            "bar_color": null,
            "_model_module": "@jupyter-widgets/controls"
          }
        },
        "3a2709e76a5e47c08e281ea6f957ad60": {
          "model_module": "@jupyter-widgets/base",
          "model_name": "LayoutModel",
          "state": {
            "_view_name": "LayoutView",
            "grid_template_rows": null,
            "right": null,
            "justify_content": null,
            "_view_module": "@jupyter-widgets/base",
            "overflow": null,
            "_model_module_version": "1.2.0",
            "_view_count": null,
            "flex_flow": null,
            "width": null,
            "min_width": null,
            "border": null,
            "align_items": null,
            "bottom": null,
            "_model_module": "@jupyter-widgets/base",
            "top": null,
            "grid_column": null,
            "overflow_y": null,
            "overflow_x": null,
            "grid_auto_flow": null,
            "grid_area": null,
            "grid_template_columns": null,
            "flex": null,
            "_model_name": "LayoutModel",
            "justify_items": null,
            "grid_row": null,
            "max_height": null,
            "align_content": null,
            "visibility": null,
            "align_self": null,
            "height": null,
            "min_height": null,
            "padding": null,
            "grid_auto_rows": null,
            "grid_gap": null,
            "max_width": null,
            "order": null,
            "_view_module_version": "1.2.0",
            "grid_template_areas": null,
            "object_position": null,
            "object_fit": null,
            "grid_auto_columns": null,
            "margin": null,
            "display": null,
            "left": null
          }
        },
        "77ba7608b7de44ab93fc6cf71a290d32": {
          "model_module": "@jupyter-widgets/controls",
          "model_name": "DescriptionStyleModel",
          "state": {
            "_view_name": "StyleView",
            "_model_name": "DescriptionStyleModel",
            "description_width": "",
            "_view_module": "@jupyter-widgets/base",
            "_model_module_version": "1.5.0",
            "_view_count": null,
            "_view_module_version": "1.2.0",
            "_model_module": "@jupyter-widgets/controls"
          }
        },
        "8088e26f3a0a4b1a8a8b46b2204c37f5": {
          "model_module": "@jupyter-widgets/base",
          "model_name": "LayoutModel",
          "state": {
            "_view_name": "LayoutView",
            "grid_template_rows": null,
            "right": null,
            "justify_content": null,
            "_view_module": "@jupyter-widgets/base",
            "overflow": null,
            "_model_module_version": "1.2.0",
            "_view_count": null,
            "flex_flow": null,
            "width": null,
            "min_width": null,
            "border": null,
            "align_items": null,
            "bottom": null,
            "_model_module": "@jupyter-widgets/base",
            "top": null,
            "grid_column": null,
            "overflow_y": null,
            "overflow_x": null,
            "grid_auto_flow": null,
            "grid_area": null,
            "grid_template_columns": null,
            "flex": null,
            "_model_name": "LayoutModel",
            "justify_items": null,
            "grid_row": null,
            "max_height": null,
            "align_content": null,
            "visibility": null,
            "align_self": null,
            "height": null,
            "min_height": null,
            "padding": null,
            "grid_auto_rows": null,
            "grid_gap": null,
            "max_width": null,
            "order": null,
            "_view_module_version": "1.2.0",
            "grid_template_areas": null,
            "object_position": null,
            "object_fit": null,
            "grid_auto_columns": null,
            "margin": null,
            "display": null,
            "left": null
          }
        },
        "33f4a3c434704ddab15aaf033792e183": {
          "model_module": "@jupyter-widgets/controls",
          "model_name": "HBoxModel",
          "state": {
            "_view_name": "HBoxView",
            "_dom_classes": [],
            "_model_name": "HBoxModel",
            "_view_module": "@jupyter-widgets/controls",
            "_model_module_version": "1.5.0",
            "_view_count": null,
            "_view_module_version": "1.5.0",
            "box_style": "",
            "layout": "IPY_MODEL_7a354f3f86cf478686a2466bf4a7d69b",
            "_model_module": "@jupyter-widgets/controls",
            "children": [
              "IPY_MODEL_e0dadf2f7ad84a73ac505a4d9646cd04",
              "IPY_MODEL_88a0bdaa64c0442dac28ecf3b9f4348c"
            ]
          }
        },
        "7a354f3f86cf478686a2466bf4a7d69b": {
          "model_module": "@jupyter-widgets/base",
          "model_name": "LayoutModel",
          "state": {
            "_view_name": "LayoutView",
            "grid_template_rows": null,
            "right": null,
            "justify_content": null,
            "_view_module": "@jupyter-widgets/base",
            "overflow": null,
            "_model_module_version": "1.2.0",
            "_view_count": null,
            "flex_flow": null,
            "width": null,
            "min_width": null,
            "border": null,
            "align_items": null,
            "bottom": null,
            "_model_module": "@jupyter-widgets/base",
            "top": null,
            "grid_column": null,
            "overflow_y": null,
            "overflow_x": null,
            "grid_auto_flow": null,
            "grid_area": null,
            "grid_template_columns": null,
            "flex": null,
            "_model_name": "LayoutModel",
            "justify_items": null,
            "grid_row": null,
            "max_height": null,
            "align_content": null,
            "visibility": null,
            "align_self": null,
            "height": null,
            "min_height": null,
            "padding": null,
            "grid_auto_rows": null,
            "grid_gap": null,
            "max_width": null,
            "order": null,
            "_view_module_version": "1.2.0",
            "grid_template_areas": null,
            "object_position": null,
            "object_fit": null,
            "grid_auto_columns": null,
            "margin": null,
            "display": null,
            "left": null
          }
        },
        "e0dadf2f7ad84a73ac505a4d9646cd04": {
          "model_module": "@jupyter-widgets/controls",
          "model_name": "FloatProgressModel",
          "state": {
            "_view_name": "ProgressView",
            "style": "IPY_MODEL_2ca5646b744f483db0cc41690c5a734c",
            "_dom_classes": [],
            "description": "",
            "_model_name": "FloatProgressModel",
            "bar_style": "success",
            "max": 1,
            "_view_module": "@jupyter-widgets/controls",
            "_model_module_version": "1.5.0",
            "value": 1,
            "_view_count": null,
            "_view_module_version": "1.5.0",
            "orientation": "horizontal",
            "min": 0,
            "description_tooltip": null,
            "_model_module": "@jupyter-widgets/controls",
            "layout": "IPY_MODEL_6a2e6ada52a24ea48b1ef46ace48b502"
          }
        },
        "88a0bdaa64c0442dac28ecf3b9f4348c": {
          "model_module": "@jupyter-widgets/controls",
          "model_name": "HTMLModel",
          "state": {
            "_view_name": "HTMLView",
            "style": "IPY_MODEL_cef4844b26614770b4ddb3e308937ec6",
            "_dom_classes": [],
            "description": "",
            "_model_name": "HTMLModel",
            "placeholder": "​",
            "_view_module": "@jupyter-widgets/controls",
            "_model_module_version": "1.5.0",
            "value": " 19380/? [02:59&lt;00:00, 107.81it/s]",
            "_view_count": null,
            "_view_module_version": "1.5.0",
            "description_tooltip": null,
            "_model_module": "@jupyter-widgets/controls",
            "layout": "IPY_MODEL_95d650284c564ca89a1b2365c865f2a5"
          }
        },
        "2ca5646b744f483db0cc41690c5a734c": {
          "model_module": "@jupyter-widgets/controls",
          "model_name": "ProgressStyleModel",
          "state": {
            "_view_name": "StyleView",
            "_model_name": "ProgressStyleModel",
            "description_width": "initial",
            "_view_module": "@jupyter-widgets/base",
            "_model_module_version": "1.5.0",
            "_view_count": null,
            "_view_module_version": "1.2.0",
            "bar_color": null,
            "_model_module": "@jupyter-widgets/controls"
          }
        },
        "6a2e6ada52a24ea48b1ef46ace48b502": {
          "model_module": "@jupyter-widgets/base",
          "model_name": "LayoutModel",
          "state": {
            "_view_name": "LayoutView",
            "grid_template_rows": null,
            "right": null,
            "justify_content": null,
            "_view_module": "@jupyter-widgets/base",
            "overflow": null,
            "_model_module_version": "1.2.0",
            "_view_count": null,
            "flex_flow": null,
            "width": null,
            "min_width": null,
            "border": null,
            "align_items": null,
            "bottom": null,
            "_model_module": "@jupyter-widgets/base",
            "top": null,
            "grid_column": null,
            "overflow_y": null,
            "overflow_x": null,
            "grid_auto_flow": null,
            "grid_area": null,
            "grid_template_columns": null,
            "flex": null,
            "_model_name": "LayoutModel",
            "justify_items": null,
            "grid_row": null,
            "max_height": null,
            "align_content": null,
            "visibility": null,
            "align_self": null,
            "height": null,
            "min_height": null,
            "padding": null,
            "grid_auto_rows": null,
            "grid_gap": null,
            "max_width": null,
            "order": null,
            "_view_module_version": "1.2.0",
            "grid_template_areas": null,
            "object_position": null,
            "object_fit": null,
            "grid_auto_columns": null,
            "margin": null,
            "display": null,
            "left": null
          }
        },
        "cef4844b26614770b4ddb3e308937ec6": {
          "model_module": "@jupyter-widgets/controls",
          "model_name": "DescriptionStyleModel",
          "state": {
            "_view_name": "StyleView",
            "_model_name": "DescriptionStyleModel",
            "description_width": "",
            "_view_module": "@jupyter-widgets/base",
            "_model_module_version": "1.5.0",
            "_view_count": null,
            "_view_module_version": "1.2.0",
            "_model_module": "@jupyter-widgets/controls"
          }
        },
        "95d650284c564ca89a1b2365c865f2a5": {
          "model_module": "@jupyter-widgets/base",
          "model_name": "LayoutModel",
          "state": {
            "_view_name": "LayoutView",
            "grid_template_rows": null,
            "right": null,
            "justify_content": null,
            "_view_module": "@jupyter-widgets/base",
            "overflow": null,
            "_model_module_version": "1.2.0",
            "_view_count": null,
            "flex_flow": null,
            "width": null,
            "min_width": null,
            "border": null,
            "align_items": null,
            "bottom": null,
            "_model_module": "@jupyter-widgets/base",
            "top": null,
            "grid_column": null,
            "overflow_y": null,
            "overflow_x": null,
            "grid_auto_flow": null,
            "grid_area": null,
            "grid_template_columns": null,
            "flex": null,
            "_model_name": "LayoutModel",
            "justify_items": null,
            "grid_row": null,
            "max_height": null,
            "align_content": null,
            "visibility": null,
            "align_self": null,
            "height": null,
            "min_height": null,
            "padding": null,
            "grid_auto_rows": null,
            "grid_gap": null,
            "max_width": null,
            "order": null,
            "_view_module_version": "1.2.0",
            "grid_template_areas": null,
            "object_position": null,
            "object_fit": null,
            "grid_auto_columns": null,
            "margin": null,
            "display": null,
            "left": null
          }
        },
        "a8dc770027db4a16b0f023e0689ca118": {
          "model_module": "@jupyter-widgets/controls",
          "model_name": "HBoxModel",
          "state": {
            "_view_name": "HBoxView",
            "_dom_classes": [],
            "_model_name": "HBoxModel",
            "_view_module": "@jupyter-widgets/controls",
            "_model_module_version": "1.5.0",
            "_view_count": null,
            "_view_module_version": "1.5.0",
            "box_style": "",
            "layout": "IPY_MODEL_90801140137746fc94f4b7893556237d",
            "_model_module": "@jupyter-widgets/controls",
            "children": [
              "IPY_MODEL_ae57e070b63545e4922225f0ff0e250d",
              "IPY_MODEL_6177799c9d6b4983857be33491f7dc06"
            ]
          }
        },
        "90801140137746fc94f4b7893556237d": {
          "model_module": "@jupyter-widgets/base",
          "model_name": "LayoutModel",
          "state": {
            "_view_name": "LayoutView",
            "grid_template_rows": null,
            "right": null,
            "justify_content": null,
            "_view_module": "@jupyter-widgets/base",
            "overflow": null,
            "_model_module_version": "1.2.0",
            "_view_count": null,
            "flex_flow": null,
            "width": null,
            "min_width": null,
            "border": null,
            "align_items": null,
            "bottom": null,
            "_model_module": "@jupyter-widgets/base",
            "top": null,
            "grid_column": null,
            "overflow_y": null,
            "overflow_x": null,
            "grid_auto_flow": null,
            "grid_area": null,
            "grid_template_columns": null,
            "flex": null,
            "_model_name": "LayoutModel",
            "justify_items": null,
            "grid_row": null,
            "max_height": null,
            "align_content": null,
            "visibility": null,
            "align_self": null,
            "height": null,
            "min_height": null,
            "padding": null,
            "grid_auto_rows": null,
            "grid_gap": null,
            "max_width": null,
            "order": null,
            "_view_module_version": "1.2.0",
            "grid_template_areas": null,
            "object_position": null,
            "object_fit": null,
            "grid_auto_columns": null,
            "margin": null,
            "display": null,
            "left": null
          }
        },
        "ae57e070b63545e4922225f0ff0e250d": {
          "model_module": "@jupyter-widgets/controls",
          "model_name": "FloatProgressModel",
          "state": {
            "_view_name": "ProgressView",
            "style": "IPY_MODEL_594f9fe15475443cbb3ba19698e3c804",
            "_dom_classes": [],
            "description": "",
            "_model_name": "FloatProgressModel",
            "bar_style": "success",
            "max": 1,
            "_view_module": "@jupyter-widgets/controls",
            "_model_module_version": "1.5.0",
            "value": 1,
            "_view_count": null,
            "_view_module_version": "1.5.0",
            "orientation": "horizontal",
            "min": 0,
            "description_tooltip": null,
            "_model_module": "@jupyter-widgets/controls",
            "layout": "IPY_MODEL_964c15367cc146b98df9f78599e5ed99"
          }
        },
        "6177799c9d6b4983857be33491f7dc06": {
          "model_module": "@jupyter-widgets/controls",
          "model_name": "HTMLModel",
          "state": {
            "_view_name": "HTMLView",
            "style": "IPY_MODEL_393ebd5a02254514a08cb25538c95270",
            "_dom_classes": [],
            "description": "",
            "_model_name": "HTMLModel",
            "placeholder": "​",
            "_view_module": "@jupyter-widgets/controls",
            "_model_module_version": "1.5.0",
            "value": " 19380/? [05:25&lt;00:00, 59.45it/s]",
            "_view_count": null,
            "_view_module_version": "1.5.0",
            "description_tooltip": null,
            "_model_module": "@jupyter-widgets/controls",
            "layout": "IPY_MODEL_d1756bc3f3c044b39f91624a8a361cee"
          }
        },
        "594f9fe15475443cbb3ba19698e3c804": {
          "model_module": "@jupyter-widgets/controls",
          "model_name": "ProgressStyleModel",
          "state": {
            "_view_name": "StyleView",
            "_model_name": "ProgressStyleModel",
            "description_width": "initial",
            "_view_module": "@jupyter-widgets/base",
            "_model_module_version": "1.5.0",
            "_view_count": null,
            "_view_module_version": "1.2.0",
            "bar_color": null,
            "_model_module": "@jupyter-widgets/controls"
          }
        },
        "964c15367cc146b98df9f78599e5ed99": {
          "model_module": "@jupyter-widgets/base",
          "model_name": "LayoutModel",
          "state": {
            "_view_name": "LayoutView",
            "grid_template_rows": null,
            "right": null,
            "justify_content": null,
            "_view_module": "@jupyter-widgets/base",
            "overflow": null,
            "_model_module_version": "1.2.0",
            "_view_count": null,
            "flex_flow": null,
            "width": null,
            "min_width": null,
            "border": null,
            "align_items": null,
            "bottom": null,
            "_model_module": "@jupyter-widgets/base",
            "top": null,
            "grid_column": null,
            "overflow_y": null,
            "overflow_x": null,
            "grid_auto_flow": null,
            "grid_area": null,
            "grid_template_columns": null,
            "flex": null,
            "_model_name": "LayoutModel",
            "justify_items": null,
            "grid_row": null,
            "max_height": null,
            "align_content": null,
            "visibility": null,
            "align_self": null,
            "height": null,
            "min_height": null,
            "padding": null,
            "grid_auto_rows": null,
            "grid_gap": null,
            "max_width": null,
            "order": null,
            "_view_module_version": "1.2.0",
            "grid_template_areas": null,
            "object_position": null,
            "object_fit": null,
            "grid_auto_columns": null,
            "margin": null,
            "display": null,
            "left": null
          }
        },
        "393ebd5a02254514a08cb25538c95270": {
          "model_module": "@jupyter-widgets/controls",
          "model_name": "DescriptionStyleModel",
          "state": {
            "_view_name": "StyleView",
            "_model_name": "DescriptionStyleModel",
            "description_width": "",
            "_view_module": "@jupyter-widgets/base",
            "_model_module_version": "1.5.0",
            "_view_count": null,
            "_view_module_version": "1.2.0",
            "_model_module": "@jupyter-widgets/controls"
          }
        },
        "d1756bc3f3c044b39f91624a8a361cee": {
          "model_module": "@jupyter-widgets/base",
          "model_name": "LayoutModel",
          "state": {
            "_view_name": "LayoutView",
            "grid_template_rows": null,
            "right": null,
            "justify_content": null,
            "_view_module": "@jupyter-widgets/base",
            "overflow": null,
            "_model_module_version": "1.2.0",
            "_view_count": null,
            "flex_flow": null,
            "width": null,
            "min_width": null,
            "border": null,
            "align_items": null,
            "bottom": null,
            "_model_module": "@jupyter-widgets/base",
            "top": null,
            "grid_column": null,
            "overflow_y": null,
            "overflow_x": null,
            "grid_auto_flow": null,
            "grid_area": null,
            "grid_template_columns": null,
            "flex": null,
            "_model_name": "LayoutModel",
            "justify_items": null,
            "grid_row": null,
            "max_height": null,
            "align_content": null,
            "visibility": null,
            "align_self": null,
            "height": null,
            "min_height": null,
            "padding": null,
            "grid_auto_rows": null,
            "grid_gap": null,
            "max_width": null,
            "order": null,
            "_view_module_version": "1.2.0",
            "grid_template_areas": null,
            "object_position": null,
            "object_fit": null,
            "grid_auto_columns": null,
            "margin": null,
            "display": null,
            "left": null
          }
        }
      }
    }
  },
  "cells": [
    {
      "cell_type": "markdown",
      "metadata": {
        "id": "view-in-github",
        "colab_type": "text"
      },
      "source": [
        "<a href=\"https://colab.research.google.com/github/lllFaNToMlll/NLP-course-work/blob/master/NLPCWRussianNewsLAST_ipynb%22.ipynb\" target=\"_parent\"><img src=\"https://colab.research.google.com/assets/colab-badge.svg\" alt=\"Open In Colab\"/></a>"
      ]
    },
    {
      "cell_type": "markdown",
      "metadata": {
        "id": "CWgDkACzdtHw"
      },
      "source": [
        "# Requirements"
      ]
    },
    {
      "cell_type": "code",
      "metadata": {
        "colab": {
          "base_uri": "https://localhost:8080/"
        },
        "id": "3pDmRH0qeR1p",
        "outputId": "6952ec16-9933-4950-9894-0c28ed2d9da6"
      },
      "source": [
        "!git clone https://github.com/IlyaGusev/purano"
      ],
      "execution_count": null,
      "outputs": [
        {
          "output_type": "stream",
          "text": [
            "fatal: destination path 'purano' already exists and is not an empty directory.\n"
          ],
          "name": "stdout"
        }
      ]
    },
    {
      "cell_type": "code",
      "metadata": {
        "colab": {
          "base_uri": "https://localhost:8080/"
        },
        "id": "0KB5gUh4eWFz",
        "outputId": "50fd7c39-b86f-4346-9261-ea2d4083c35e"
      },
      "source": [
        "%cd purano"
      ],
      "execution_count": null,
      "outputs": [
        {
          "output_type": "stream",
          "text": [
            "/content/purano\n"
          ],
          "name": "stdout"
        }
      ]
    },
    {
      "cell_type": "code",
      "metadata": {
        "colab": {
          "base_uri": "https://localhost:8080/"
        },
        "id": "_FN-EPPRiSvJ",
        "outputId": "b334f31c-d718-4b12-f0fb-d7e0ff7832c9"
      },
      "source": [
        "!pip install -r requirements.txt\n",
        "!pip install catboost\n",
        "!pip install tensorflow-text tensorflow-hub\n",
        "!pip install --upgrade transformers"
      ],
      "execution_count": null,
      "outputs": [
        {
          "output_type": "stream",
          "text": [
            "Requirement already satisfied: numpy<1.19.0,>=1.16.0 in /usr/local/lib/python3.7/dist-packages (from -r requirements.txt (line 5)) (1.18.5)\n",
            "Requirement already satisfied: pandas>=0.24.0 in /usr/local/lib/python3.7/dist-packages (from -r requirements.txt (line 6)) (1.1.5)\n",
            "Requirement already satisfied: scikit-learn>=0.21.0 in /usr/local/lib/python3.7/dist-packages (from -r requirements.txt (line 7)) (0.22.2.post1)\n",
            "Requirement already satisfied: hyperopt>=0.2.5 in /usr/local/lib/python3.7/dist-packages (from -r requirements.txt (line 8)) (0.2.5)\n",
            "Requirement already satisfied: neptune-client>=0.4.125 in /usr/local/lib/python3.7/dist-packages (from -r requirements.txt (line 9)) (0.9.16)\n",
            "Requirement already satisfied: torch>=1.5.0 in /usr/local/lib/python3.7/dist-packages (from -r requirements.txt (line 12)) (1.8.1+cu101)\n",
            "Requirement already satisfied: pytorch_lightning>=1.0.5 in /usr/local/lib/python3.7/dist-packages (from -r requirements.txt (line 13)) (1.3.3)\n",
            "Requirement already satisfied: tensorboard>=2.4 in /usr/local/lib/python3.7/dist-packages (from -r requirements.txt (line 14)) (2.5.0)\n",
            "Requirement already satisfied: tensorboardX>=2.1 in /usr/local/lib/python3.7/dist-packages (from -r requirements.txt (line 15)) (2.2)\n",
            "Collecting transformers==3.4.0\n",
            "  Using cached https://files.pythonhosted.org/packages/2c/4e/4f1ede0fd7a36278844a277f8d53c21f88f37f3754abf76a5d6224f76d4a/transformers-3.4.0-py3-none-any.whl\n",
            "Requirement already satisfied: python-dateutil>=2.8.1 in /usr/local/lib/python3.7/dist-packages (from -r requirements.txt (line 19)) (2.8.1)\n",
            "Requirement already satisfied: jsonnet>=0.10.0 in /usr/local/lib/python3.7/dist-packages (from -r requirements.txt (line 20)) (0.17.0)\n",
            "Requirement already satisfied: sqlalchemy>=1.2.0 in /usr/local/lib/python3.7/dist-packages (from -r requirements.txt (line 21)) (1.4.15)\n",
            "Requirement already satisfied: protobuf>=3.10.0 in /usr/local/lib/python3.7/dist-packages (from -r requirements.txt (line 22)) (3.12.4)\n",
            "Requirement already satisfied: flask>=1.1.1 in /usr/local/lib/python3.7/dist-packages (from -r requirements.txt (line 23)) (1.1.4)\n",
            "Requirement already satisfied: flask-sqlalchemy>=2.4.4 in /usr/local/lib/python3.7/dist-packages (from -r requirements.txt (line 24)) (2.5.1)\n",
            "Requirement already satisfied: nltk>=3.2.5 in /usr/local/lib/python3.7/dist-packages (from -r requirements.txt (line 27)) (3.2.5)\n",
            "Requirement already satisfied: pyonmttok>=1.22.1 in /usr/local/lib/python3.7/dist-packages (from -r requirements.txt (line 28)) (1.26.1)\n",
            "Requirement already satisfied: fasttext>=0.9.1 in /usr/local/lib/python3.7/dist-packages (from -r requirements.txt (line 29)) (0.9.2)\n",
            "Requirement already satisfied: slovnet==0.4.0 in /usr/local/lib/python3.7/dist-packages (from -r requirements.txt (line 30)) (0.4.0)\n",
            "Requirement already satisfied: pymorphy2[fast]==0.9.1 in /usr/local/lib/python3.7/dist-packages (from -r requirements.txt (line 31)) (0.9.1)\n",
            "Requirement already satisfied: jupyter>=1.0.0 in /usr/local/lib/python3.7/dist-packages (from -r requirements.txt (line 34)) (1.0.0)\n",
            "Requirement already satisfied: ipymarkup>=0.5.0 in /usr/local/lib/python3.7/dist-packages (from -r requirements.txt (line 35)) (0.9.0)\n",
            "Requirement already satisfied: pyinstrument==3.2.0 in /usr/local/lib/python3.7/dist-packages (from -r requirements.txt (line 38)) (3.2.0)\n",
            "Requirement already satisfied: hnswlib==0.4.0 in /usr/local/lib/python3.7/dist-packages (from -r requirements.txt (line 39)) (0.4.0)\n",
            "Requirement already satisfied: pytz>=2017.2 in /usr/local/lib/python3.7/dist-packages (from pandas>=0.24.0->-r requirements.txt (line 6)) (2018.9)\n",
            "Requirement already satisfied: scipy>=0.17.0 in /usr/local/lib/python3.7/dist-packages (from scikit-learn>=0.21.0->-r requirements.txt (line 7)) (1.4.1)\n",
            "Requirement already satisfied: joblib>=0.11 in /usr/local/lib/python3.7/dist-packages (from scikit-learn>=0.21.0->-r requirements.txt (line 7)) (1.0.1)\n",
            "Requirement already satisfied: six in /usr/local/lib/python3.7/dist-packages (from hyperopt>=0.2.5->-r requirements.txt (line 8)) (1.15.0)\n",
            "Requirement already satisfied: networkx>=2.2 in /usr/local/lib/python3.7/dist-packages (from hyperopt>=0.2.5->-r requirements.txt (line 8)) (2.5.1)\n",
            "Requirement already satisfied: future in /usr/local/lib/python3.7/dist-packages (from hyperopt>=0.2.5->-r requirements.txt (line 8)) (0.16.0)\n",
            "Requirement already satisfied: tqdm in /usr/local/lib/python3.7/dist-packages (from hyperopt>=0.2.5->-r requirements.txt (line 8)) (4.41.1)\n",
            "Requirement already satisfied: cloudpickle in /usr/local/lib/python3.7/dist-packages (from hyperopt>=0.2.5->-r requirements.txt (line 8)) (1.3.0)\n",
            "Requirement already satisfied: requests>=2.20.0 in /usr/local/lib/python3.7/dist-packages (from neptune-client>=0.4.125->-r requirements.txt (line 9)) (2.23.0)\n",
            "Requirement already satisfied: urllib3 in /usr/local/lib/python3.7/dist-packages (from neptune-client>=0.4.125->-r requirements.txt (line 9)) (1.24.3)\n",
            "Requirement already satisfied: websocket-client!=1.0.0,>=0.35.0 in /usr/local/lib/python3.7/dist-packages (from neptune-client>=0.4.125->-r requirements.txt (line 9)) (1.0.1)\n",
            "Requirement already satisfied: Pillow>=1.1.6 in /usr/local/lib/python3.7/dist-packages (from neptune-client>=0.4.125->-r requirements.txt (line 9)) (7.1.2)\n",
            "Requirement already satisfied: packaging in /usr/local/lib/python3.7/dist-packages (from neptune-client>=0.4.125->-r requirements.txt (line 9)) (20.9)\n",
            "Requirement already satisfied: oauthlib>=2.1.0 in /usr/local/lib/python3.7/dist-packages (from neptune-client>=0.4.125->-r requirements.txt (line 9)) (3.1.0)\n",
            "Requirement already satisfied: GitPython>=2.0.8 in /usr/local/lib/python3.7/dist-packages (from neptune-client>=0.4.125->-r requirements.txt (line 9)) (3.1.17)\n",
            "Requirement already satisfied: PyJWT in /usr/local/lib/python3.7/dist-packages (from neptune-client>=0.4.125->-r requirements.txt (line 9)) (2.1.0)\n",
            "Requirement already satisfied: requests-oauthlib>=1.0.0 in /usr/local/lib/python3.7/dist-packages (from neptune-client>=0.4.125->-r requirements.txt (line 9)) (1.3.0)\n",
            "Requirement already satisfied: click>=7.0 in /usr/local/lib/python3.7/dist-packages (from neptune-client>=0.4.125->-r requirements.txt (line 9)) (7.1.2)\n",
            "Requirement already satisfied: bravado in /usr/local/lib/python3.7/dist-packages (from neptune-client>=0.4.125->-r requirements.txt (line 9)) (11.0.3)\n",
            "Requirement already satisfied: typing-extensions in /usr/local/lib/python3.7/dist-packages (from torch>=1.5.0->-r requirements.txt (line 12)) (3.7.4.3)\n",
            "Requirement already satisfied: PyYAML<=5.4.1,>=5.1 in /usr/local/lib/python3.7/dist-packages (from pytorch_lightning>=1.0.5->-r requirements.txt (line 13)) (5.4.1)\n",
            "Requirement already satisfied: fsspec[http]>=2021.4.0 in /usr/local/lib/python3.7/dist-packages (from pytorch_lightning>=1.0.5->-r requirements.txt (line 13)) (2021.5.0)\n",
            "Requirement already satisfied: torchmetrics>=0.2.0 in /usr/local/lib/python3.7/dist-packages (from pytorch_lightning>=1.0.5->-r requirements.txt (line 13)) (0.3.2)\n",
            "Requirement already satisfied: pyDeprecate==0.3.0 in /usr/local/lib/python3.7/dist-packages (from pytorch_lightning>=1.0.5->-r requirements.txt (line 13)) (0.3.0)\n",
            "Requirement already satisfied: tensorboard-data-server<0.7.0,>=0.6.0 in /usr/local/lib/python3.7/dist-packages (from tensorboard>=2.4->-r requirements.txt (line 14)) (0.6.1)\n",
            "Requirement already satisfied: setuptools>=41.0.0 in /usr/local/lib/python3.7/dist-packages (from tensorboard>=2.4->-r requirements.txt (line 14)) (56.1.0)\n",
            "Requirement already satisfied: grpcio>=1.24.3 in /usr/local/lib/python3.7/dist-packages (from tensorboard>=2.4->-r requirements.txt (line 14)) (1.34.1)\n",
            "Requirement already satisfied: werkzeug>=0.11.15 in /usr/local/lib/python3.7/dist-packages (from tensorboard>=2.4->-r requirements.txt (line 14)) (1.0.1)\n",
            "Requirement already satisfied: tensorboard-plugin-wit>=1.6.0 in /usr/local/lib/python3.7/dist-packages (from tensorboard>=2.4->-r requirements.txt (line 14)) (1.8.0)\n",
            "Requirement already satisfied: google-auth-oauthlib<0.5,>=0.4.1 in /usr/local/lib/python3.7/dist-packages (from tensorboard>=2.4->-r requirements.txt (line 14)) (0.4.4)\n",
            "Requirement already satisfied: absl-py>=0.4 in /usr/local/lib/python3.7/dist-packages (from tensorboard>=2.4->-r requirements.txt (line 14)) (0.12.0)\n",
            "Requirement already satisfied: google-auth<2,>=1.6.3 in /usr/local/lib/python3.7/dist-packages (from tensorboard>=2.4->-r requirements.txt (line 14)) (1.30.0)\n",
            "Requirement already satisfied: markdown>=2.6.8 in /usr/local/lib/python3.7/dist-packages (from tensorboard>=2.4->-r requirements.txt (line 14)) (3.3.4)\n",
            "Requirement already satisfied: wheel>=0.26; python_version >= \"3\" in /usr/local/lib/python3.7/dist-packages (from tensorboard>=2.4->-r requirements.txt (line 14)) (0.36.2)\n",
            "Requirement already satisfied: filelock in /usr/local/lib/python3.7/dist-packages (from transformers==3.4.0->-r requirements.txt (line 16)) (3.0.12)\n",
            "Requirement already satisfied: regex!=2019.12.17 in /usr/local/lib/python3.7/dist-packages (from transformers==3.4.0->-r requirements.txt (line 16)) (2019.12.20)\n",
            "Collecting tokenizers==0.9.2\n",
            "  Using cached https://files.pythonhosted.org/packages/35/e7/edf655ae34925aeaefb7b7fcc3dd0887d2a1203ee6b0df4d1170d1a19d4f/tokenizers-0.9.2-cp37-cp37m-manylinux1_x86_64.whl\n",
            "Requirement already satisfied: sentencepiece!=0.1.92 in /usr/local/lib/python3.7/dist-packages (from transformers==3.4.0->-r requirements.txt (line 16)) (0.1.95)\n",
            "Requirement already satisfied: sacremoses in /usr/local/lib/python3.7/dist-packages (from transformers==3.4.0->-r requirements.txt (line 16)) (0.0.45)\n",
            "Requirement already satisfied: importlib-metadata; python_version < \"3.8\" in /usr/local/lib/python3.7/dist-packages (from sqlalchemy>=1.2.0->-r requirements.txt (line 21)) (4.0.1)\n",
            "Requirement already satisfied: greenlet!=0.4.17; python_version >= \"3\" in /usr/local/lib/python3.7/dist-packages (from sqlalchemy>=1.2.0->-r requirements.txt (line 21)) (1.1.0)\n",
            "Requirement already satisfied: itsdangerous<2.0,>=0.24 in /usr/local/lib/python3.7/dist-packages (from flask>=1.1.1->-r requirements.txt (line 23)) (1.1.0)\n",
            "Requirement already satisfied: Jinja2<3.0,>=2.10.1 in /usr/local/lib/python3.7/dist-packages (from flask>=1.1.1->-r requirements.txt (line 23)) (2.11.3)\n",
            "Requirement already satisfied: pybind11>=2.2 in /usr/local/lib/python3.7/dist-packages (from fasttext>=0.9.1->-r requirements.txt (line 29)) (2.6.2)\n",
            "Requirement already satisfied: navec in /usr/local/lib/python3.7/dist-packages (from slovnet==0.4.0->-r requirements.txt (line 30)) (0.10.0)\n",
            "Requirement already satisfied: razdel in /usr/local/lib/python3.7/dist-packages (from slovnet==0.4.0->-r requirements.txt (line 30)) (0.5.0)\n",
            "Requirement already satisfied: dawg-python>=0.7.1 in /usr/local/lib/python3.7/dist-packages (from pymorphy2[fast]==0.9.1->-r requirements.txt (line 31)) (0.7.2)\n",
            "Requirement already satisfied: docopt>=0.6 in /usr/local/lib/python3.7/dist-packages (from pymorphy2[fast]==0.9.1->-r requirements.txt (line 31)) (0.6.2)\n",
            "Requirement already satisfied: pymorphy2-dicts-ru<3.0,>=2.4 in /usr/local/lib/python3.7/dist-packages (from pymorphy2[fast]==0.9.1->-r requirements.txt (line 31)) (2.4.417127.4579844)\n",
            "Requirement already satisfied: DAWG>=0.8; extra == \"fast\" in /usr/local/lib/python3.7/dist-packages (from pymorphy2[fast]==0.9.1->-r requirements.txt (line 31)) (0.8.0)\n",
            "Requirement already satisfied: notebook in /usr/local/lib/python3.7/dist-packages (from jupyter>=1.0.0->-r requirements.txt (line 34)) (5.3.1)\n",
            "Requirement already satisfied: jupyter-console in /usr/local/lib/python3.7/dist-packages (from jupyter>=1.0.0->-r requirements.txt (line 34)) (5.2.0)\n",
            "Requirement already satisfied: ipykernel in /usr/local/lib/python3.7/dist-packages (from jupyter>=1.0.0->-r requirements.txt (line 34)) (4.10.1)\n",
            "Requirement already satisfied: nbconvert in /usr/local/lib/python3.7/dist-packages (from jupyter>=1.0.0->-r requirements.txt (line 34)) (5.6.1)\n",
            "Requirement already satisfied: ipywidgets in /usr/local/lib/python3.7/dist-packages (from jupyter>=1.0.0->-r requirements.txt (line 34)) (7.6.3)\n",
            "Requirement already satisfied: qtconsole in /usr/local/lib/python3.7/dist-packages (from jupyter>=1.0.0->-r requirements.txt (line 34)) (5.1.0)\n",
            "Requirement already satisfied: intervaltree>=3 in /usr/local/lib/python3.7/dist-packages (from ipymarkup>=0.5.0->-r requirements.txt (line 35)) (3.1.0)\n",
            "Requirement already satisfied: pyinstrument-cext>=0.2.2 in /usr/local/lib/python3.7/dist-packages (from pyinstrument==3.2.0->-r requirements.txt (line 38)) (0.2.4)\n",
            "Requirement already satisfied: decorator<5,>=4.3 in /usr/local/lib/python3.7/dist-packages (from networkx>=2.2->hyperopt>=0.2.5->-r requirements.txt (line 8)) (4.4.2)\n",
            "Requirement already satisfied: chardet<4,>=3.0.2 in /usr/local/lib/python3.7/dist-packages (from requests>=2.20.0->neptune-client>=0.4.125->-r requirements.txt (line 9)) (3.0.4)\n",
            "Requirement already satisfied: certifi>=2017.4.17 in /usr/local/lib/python3.7/dist-packages (from requests>=2.20.0->neptune-client>=0.4.125->-r requirements.txt (line 9)) (2020.12.5)\n",
            "Requirement already satisfied: idna<3,>=2.5 in /usr/local/lib/python3.7/dist-packages (from requests>=2.20.0->neptune-client>=0.4.125->-r requirements.txt (line 9)) (2.10)\n",
            "Requirement already satisfied: pyparsing>=2.0.2 in /usr/local/lib/python3.7/dist-packages (from packaging->neptune-client>=0.4.125->-r requirements.txt (line 9)) (2.4.7)\n",
            "Requirement already satisfied: gitdb<5,>=4.0.1 in /usr/local/lib/python3.7/dist-packages (from GitPython>=2.0.8->neptune-client>=0.4.125->-r requirements.txt (line 9)) (4.0.7)\n",
            "Requirement already satisfied: bravado-core>=5.16.1 in /usr/local/lib/python3.7/dist-packages (from bravado->neptune-client>=0.4.125->-r requirements.txt (line 9)) (5.17.0)\n",
            "Requirement already satisfied: simplejson in /usr/local/lib/python3.7/dist-packages (from bravado->neptune-client>=0.4.125->-r requirements.txt (line 9)) (3.17.2)\n",
            "Requirement already satisfied: msgpack in /usr/local/lib/python3.7/dist-packages (from bravado->neptune-client>=0.4.125->-r requirements.txt (line 9)) (1.0.2)\n",
            "Requirement already satisfied: monotonic in /usr/local/lib/python3.7/dist-packages (from bravado->neptune-client>=0.4.125->-r requirements.txt (line 9)) (1.6)\n",
            "Requirement already satisfied: aiohttp; extra == \"http\" in /usr/local/lib/python3.7/dist-packages (from fsspec[http]>=2021.4.0->pytorch_lightning>=1.0.5->-r requirements.txt (line 13)) (3.7.4.post0)\n",
            "Requirement already satisfied: rsa<5,>=3.1.4; python_version >= \"3.6\" in /usr/local/lib/python3.7/dist-packages (from google-auth<2,>=1.6.3->tensorboard>=2.4->-r requirements.txt (line 14)) (4.7.2)\n",
            "Requirement already satisfied: pyasn1-modules>=0.2.1 in /usr/local/lib/python3.7/dist-packages (from google-auth<2,>=1.6.3->tensorboard>=2.4->-r requirements.txt (line 14)) (0.2.8)\n",
            "Requirement already satisfied: cachetools<5.0,>=2.0.0 in /usr/local/lib/python3.7/dist-packages (from google-auth<2,>=1.6.3->tensorboard>=2.4->-r requirements.txt (line 14)) (4.2.2)\n",
            "Requirement already satisfied: zipp>=0.5 in /usr/local/lib/python3.7/dist-packages (from importlib-metadata; python_version < \"3.8\"->sqlalchemy>=1.2.0->-r requirements.txt (line 21)) (3.4.1)\n",
            "Requirement already satisfied: MarkupSafe>=0.23 in /usr/local/lib/python3.7/dist-packages (from Jinja2<3.0,>=2.10.1->flask>=1.1.1->-r requirements.txt (line 23)) (2.0.1)\n",
            "Requirement already satisfied: tornado>=4 in /usr/local/lib/python3.7/dist-packages (from notebook->jupyter>=1.0.0->-r requirements.txt (line 34)) (5.1.1)\n",
            "Requirement already satisfied: jupyter-client>=5.2.0 in /usr/local/lib/python3.7/dist-packages (from notebook->jupyter>=1.0.0->-r requirements.txt (line 34)) (5.3.5)\n",
            "Requirement already satisfied: terminado>=0.8.1 in /usr/local/lib/python3.7/dist-packages (from notebook->jupyter>=1.0.0->-r requirements.txt (line 34)) (0.10.0)\n",
            "Requirement already satisfied: Send2Trash in /usr/local/lib/python3.7/dist-packages (from notebook->jupyter>=1.0.0->-r requirements.txt (line 34)) (1.5.0)\n",
            "Requirement already satisfied: ipython-genutils in /usr/local/lib/python3.7/dist-packages (from notebook->jupyter>=1.0.0->-r requirements.txt (line 34)) (0.2.0)\n",
            "Requirement already satisfied: jupyter-core>=4.4.0 in /usr/local/lib/python3.7/dist-packages (from notebook->jupyter>=1.0.0->-r requirements.txt (line 34)) (4.7.1)\n",
            "Requirement already satisfied: nbformat in /usr/local/lib/python3.7/dist-packages (from notebook->jupyter>=1.0.0->-r requirements.txt (line 34)) (5.1.3)\n",
            "Requirement already satisfied: traitlets>=4.2.1 in /usr/local/lib/python3.7/dist-packages (from notebook->jupyter>=1.0.0->-r requirements.txt (line 34)) (5.0.5)\n",
            "Requirement already satisfied: pygments in /usr/local/lib/python3.7/dist-packages (from jupyter-console->jupyter>=1.0.0->-r requirements.txt (line 34)) (2.6.1)\n",
            "Requirement already satisfied: prompt-toolkit<2.0.0,>=1.0.0 in /usr/local/lib/python3.7/dist-packages (from jupyter-console->jupyter>=1.0.0->-r requirements.txt (line 34)) (1.0.18)\n",
            "Requirement already satisfied: ipython in /usr/local/lib/python3.7/dist-packages (from jupyter-console->jupyter>=1.0.0->-r requirements.txt (line 34)) (5.5.0)\n",
            "Requirement already satisfied: entrypoints>=0.2.2 in /usr/local/lib/python3.7/dist-packages (from nbconvert->jupyter>=1.0.0->-r requirements.txt (line 34)) (0.3)\n",
            "Requirement already satisfied: mistune<2,>=0.8.1 in /usr/local/lib/python3.7/dist-packages (from nbconvert->jupyter>=1.0.0->-r requirements.txt (line 34)) (0.8.4)\n",
            "Requirement already satisfied: defusedxml in /usr/local/lib/python3.7/dist-packages (from nbconvert->jupyter>=1.0.0->-r requirements.txt (line 34)) (0.7.1)\n",
            "Requirement already satisfied: testpath in /usr/local/lib/python3.7/dist-packages (from nbconvert->jupyter>=1.0.0->-r requirements.txt (line 34)) (0.5.0)\n",
            "Requirement already satisfied: pandocfilters>=1.4.1 in /usr/local/lib/python3.7/dist-packages (from nbconvert->jupyter>=1.0.0->-r requirements.txt (line 34)) (1.4.3)\n",
            "Requirement already satisfied: bleach in /usr/local/lib/python3.7/dist-packages (from nbconvert->jupyter>=1.0.0->-r requirements.txt (line 34)) (3.3.0)\n",
            "Requirement already satisfied: widgetsnbextension~=3.5.0 in /usr/local/lib/python3.7/dist-packages (from ipywidgets->jupyter>=1.0.0->-r requirements.txt (line 34)) (3.5.1)\n",
            "Requirement already satisfied: jupyterlab-widgets>=1.0.0; python_version >= \"3.6\" in /usr/local/lib/python3.7/dist-packages (from ipywidgets->jupyter>=1.0.0->-r requirements.txt (line 34)) (1.0.0)\n",
            "Requirement already satisfied: qtpy in /usr/local/lib/python3.7/dist-packages (from qtconsole->jupyter>=1.0.0->-r requirements.txt (line 34)) (1.9.0)\n",
            "Requirement already satisfied: pyzmq>=17.1 in /usr/local/lib/python3.7/dist-packages (from qtconsole->jupyter>=1.0.0->-r requirements.txt (line 34)) (22.0.3)\n",
            "Requirement already satisfied: sortedcontainers<3.0,>=2.0 in /usr/local/lib/python3.7/dist-packages (from intervaltree>=3->ipymarkup>=0.5.0->-r requirements.txt (line 35)) (2.4.0)\n",
            "Requirement already satisfied: smmap<5,>=3.0.1 in /usr/local/lib/python3.7/dist-packages (from gitdb<5,>=4.0.1->GitPython>=2.0.8->neptune-client>=0.4.125->-r requirements.txt (line 9)) (4.0.0)\n",
            "Requirement already satisfied: jsonref in /usr/local/lib/python3.7/dist-packages (from bravado-core>=5.16.1->bravado->neptune-client>=0.4.125->-r requirements.txt (line 9)) (0.2)\n",
            "Requirement already satisfied: jsonschema[format]>=2.5.1 in /usr/local/lib/python3.7/dist-packages (from bravado-core>=5.16.1->bravado->neptune-client>=0.4.125->-r requirements.txt (line 9)) (2.6.0)\n",
            "Requirement already satisfied: swagger-spec-validator>=2.0.1 in /usr/local/lib/python3.7/dist-packages (from bravado-core>=5.16.1->bravado->neptune-client>=0.4.125->-r requirements.txt (line 9)) (2.7.3)\n",
            "Requirement already satisfied: yarl<2.0,>=1.0 in /usr/local/lib/python3.7/dist-packages (from aiohttp; extra == \"http\"->fsspec[http]>=2021.4.0->pytorch_lightning>=1.0.5->-r requirements.txt (line 13)) (1.6.3)\n",
            "Requirement already satisfied: async-timeout<4.0,>=3.0 in /usr/local/lib/python3.7/dist-packages (from aiohttp; extra == \"http\"->fsspec[http]>=2021.4.0->pytorch_lightning>=1.0.5->-r requirements.txt (line 13)) (3.0.1)\n",
            "Requirement already satisfied: multidict<7.0,>=4.5 in /usr/local/lib/python3.7/dist-packages (from aiohttp; extra == \"http\"->fsspec[http]>=2021.4.0->pytorch_lightning>=1.0.5->-r requirements.txt (line 13)) (5.1.0)\n",
            "Requirement already satisfied: attrs>=17.3.0 in /usr/local/lib/python3.7/dist-packages (from aiohttp; extra == \"http\"->fsspec[http]>=2021.4.0->pytorch_lightning>=1.0.5->-r requirements.txt (line 13)) (21.2.0)\n",
            "Requirement already satisfied: pyasn1>=0.1.3 in /usr/local/lib/python3.7/dist-packages (from rsa<5,>=3.1.4; python_version >= \"3.6\"->google-auth<2,>=1.6.3->tensorboard>=2.4->-r requirements.txt (line 14)) (0.4.8)\n",
            "Requirement already satisfied: ptyprocess; os_name != \"nt\" in /usr/local/lib/python3.7/dist-packages (from terminado>=0.8.1->notebook->jupyter>=1.0.0->-r requirements.txt (line 34)) (0.7.0)\n",
            "Requirement already satisfied: wcwidth in /usr/local/lib/python3.7/dist-packages (from prompt-toolkit<2.0.0,>=1.0.0->jupyter-console->jupyter>=1.0.0->-r requirements.txt (line 34)) (0.2.5)\n",
            "Requirement already satisfied: pexpect; sys_platform != \"win32\" in /usr/local/lib/python3.7/dist-packages (from ipython->jupyter-console->jupyter>=1.0.0->-r requirements.txt (line 34)) (4.8.0)\n",
            "Requirement already satisfied: simplegeneric>0.8 in /usr/local/lib/python3.7/dist-packages (from ipython->jupyter-console->jupyter>=1.0.0->-r requirements.txt (line 34)) (0.8.1)\n",
            "Requirement already satisfied: pickleshare in /usr/local/lib/python3.7/dist-packages (from ipython->jupyter-console->jupyter>=1.0.0->-r requirements.txt (line 34)) (0.7.5)\n",
            "Requirement already satisfied: webencodings in /usr/local/lib/python3.7/dist-packages (from bleach->nbconvert->jupyter>=1.0.0->-r requirements.txt (line 34)) (0.5.1)\n",
            "Requirement already satisfied: rfc3987; extra == \"format\" in /usr/local/lib/python3.7/dist-packages (from jsonschema[format]>=2.5.1->bravado-core>=5.16.1->bravado->neptune-client>=0.4.125->-r requirements.txt (line 9)) (1.3.8)\n",
            "Requirement already satisfied: webcolors; extra == \"format\" in /usr/local/lib/python3.7/dist-packages (from jsonschema[format]>=2.5.1->bravado-core>=5.16.1->bravado->neptune-client>=0.4.125->-r requirements.txt (line 9)) (1.11.1)\n",
            "Requirement already satisfied: strict-rfc3339; extra == \"format\" in /usr/local/lib/python3.7/dist-packages (from jsonschema[format]>=2.5.1->bravado-core>=5.16.1->bravado->neptune-client>=0.4.125->-r requirements.txt (line 9)) (0.7)\n",
            "Installing collected packages: tokenizers, transformers\n",
            "  Found existing installation: tokenizers 0.10.3\n",
            "    Uninstalling tokenizers-0.10.3:\n",
            "      Successfully uninstalled tokenizers-0.10.3\n",
            "  Found existing installation: transformers 4.6.1\n",
            "    Uninstalling transformers-4.6.1:\n",
            "      Successfully uninstalled transformers-4.6.1\n",
            "Successfully installed tokenizers-0.9.2 transformers-3.4.0\n",
            "Requirement already satisfied: catboost in /usr/local/lib/python3.7/dist-packages (0.25.1)\n",
            "Requirement already satisfied: scipy in /usr/local/lib/python3.7/dist-packages (from catboost) (1.4.1)\n",
            "Requirement already satisfied: matplotlib in /usr/local/lib/python3.7/dist-packages (from catboost) (3.2.2)\n",
            "Requirement already satisfied: plotly in /usr/local/lib/python3.7/dist-packages (from catboost) (4.4.1)\n",
            "Requirement already satisfied: graphviz in /usr/local/lib/python3.7/dist-packages (from catboost) (0.10.1)\n",
            "Requirement already satisfied: pandas>=0.24.0 in /usr/local/lib/python3.7/dist-packages (from catboost) (1.1.5)\n",
            "Requirement already satisfied: numpy>=1.16.0 in /usr/local/lib/python3.7/dist-packages (from catboost) (1.18.5)\n",
            "Requirement already satisfied: six in /usr/local/lib/python3.7/dist-packages (from catboost) (1.15.0)\n",
            "Requirement already satisfied: pyparsing!=2.0.4,!=2.1.2,!=2.1.6,>=2.0.1 in /usr/local/lib/python3.7/dist-packages (from matplotlib->catboost) (2.4.7)\n",
            "Requirement already satisfied: kiwisolver>=1.0.1 in /usr/local/lib/python3.7/dist-packages (from matplotlib->catboost) (1.3.1)\n",
            "Requirement already satisfied: python-dateutil>=2.1 in /usr/local/lib/python3.7/dist-packages (from matplotlib->catboost) (2.8.1)\n",
            "Requirement already satisfied: cycler>=0.10 in /usr/local/lib/python3.7/dist-packages (from matplotlib->catboost) (0.10.0)\n",
            "Requirement already satisfied: retrying>=1.3.3 in /usr/local/lib/python3.7/dist-packages (from plotly->catboost) (1.3.3)\n",
            "Requirement already satisfied: pytz>=2017.2 in /usr/local/lib/python3.7/dist-packages (from pandas>=0.24.0->catboost) (2018.9)\n",
            "Requirement already satisfied: tensorflow-text in /usr/local/lib/python3.7/dist-packages (2.5.0)\n",
            "Requirement already satisfied: tensorflow-hub in /usr/local/lib/python3.7/dist-packages (0.12.0)\n",
            "Requirement already satisfied: tensorflow<2.6,>=2.5.0 in /usr/local/lib/python3.7/dist-packages (from tensorflow-text) (2.5.0)\n",
            "Requirement already satisfied: numpy>=1.12.0 in /usr/local/lib/python3.7/dist-packages (from tensorflow-hub) (1.18.5)\n",
            "Requirement already satisfied: protobuf>=3.8.0 in /usr/local/lib/python3.7/dist-packages (from tensorflow-hub) (3.12.4)\n",
            "Requirement already satisfied: keras-nightly~=2.5.0.dev in /usr/local/lib/python3.7/dist-packages (from tensorflow<2.6,>=2.5.0->tensorflow-text) (2.5.0.dev2021032900)\n",
            "Requirement already satisfied: keras-preprocessing~=1.1.2 in /usr/local/lib/python3.7/dist-packages (from tensorflow<2.6,>=2.5.0->tensorflow-text) (1.1.2)\n",
            "Requirement already satisfied: flatbuffers~=1.12.0 in /usr/local/lib/python3.7/dist-packages (from tensorflow<2.6,>=2.5.0->tensorflow-text) (1.12)\n",
            "Requirement already satisfied: opt-einsum~=3.3.0 in /usr/local/lib/python3.7/dist-packages (from tensorflow<2.6,>=2.5.0->tensorflow-text) (3.3.0)\n",
            "Requirement already satisfied: absl-py~=0.10 in /usr/local/lib/python3.7/dist-packages (from tensorflow<2.6,>=2.5.0->tensorflow-text) (0.12.0)\n",
            "Requirement already satisfied: tensorboard~=2.5 in /usr/local/lib/python3.7/dist-packages (from tensorflow<2.6,>=2.5.0->tensorflow-text) (2.5.0)\n",
            "Requirement already satisfied: gast==0.4.0 in /usr/local/lib/python3.7/dist-packages (from tensorflow<2.6,>=2.5.0->tensorflow-text) (0.4.0)\n",
            "Requirement already satisfied: wrapt~=1.12.1 in /usr/local/lib/python3.7/dist-packages (from tensorflow<2.6,>=2.5.0->tensorflow-text) (1.12.1)\n",
            "Requirement already satisfied: termcolor~=1.1.0 in /usr/local/lib/python3.7/dist-packages (from tensorflow<2.6,>=2.5.0->tensorflow-text) (1.1.0)\n",
            "Requirement already satisfied: h5py~=3.1.0 in /usr/local/lib/python3.7/dist-packages (from tensorflow<2.6,>=2.5.0->tensorflow-text) (3.1.0)\n",
            "Requirement already satisfied: grpcio~=1.34.0 in /usr/local/lib/python3.7/dist-packages (from tensorflow<2.6,>=2.5.0->tensorflow-text) (1.34.1)\n",
            "Requirement already satisfied: typing-extensions~=3.7.4 in /usr/local/lib/python3.7/dist-packages (from tensorflow<2.6,>=2.5.0->tensorflow-text) (3.7.4.3)\n",
            "Requirement already satisfied: astunparse~=1.6.3 in /usr/local/lib/python3.7/dist-packages (from tensorflow<2.6,>=2.5.0->tensorflow-text) (1.6.3)\n",
            "Requirement already satisfied: six~=1.15.0 in /usr/local/lib/python3.7/dist-packages (from tensorflow<2.6,>=2.5.0->tensorflow-text) (1.15.0)\n",
            "Requirement already satisfied: wheel~=0.35 in /usr/local/lib/python3.7/dist-packages (from tensorflow<2.6,>=2.5.0->tensorflow-text) (0.36.2)\n",
            "Requirement already satisfied: google-pasta~=0.2 in /usr/local/lib/python3.7/dist-packages (from tensorflow<2.6,>=2.5.0->tensorflow-text) (0.2.0)\n",
            "Requirement already satisfied: tensorflow-estimator<2.6.0,>=2.5.0rc0 in /usr/local/lib/python3.7/dist-packages (from tensorflow<2.6,>=2.5.0->tensorflow-text) (2.5.0)\n",
            "Requirement already satisfied: setuptools in /usr/local/lib/python3.7/dist-packages (from protobuf>=3.8.0->tensorflow-hub) (56.1.0)\n",
            "Requirement already satisfied: requests<3,>=2.21.0 in /usr/local/lib/python3.7/dist-packages (from tensorboard~=2.5->tensorflow<2.6,>=2.5.0->tensorflow-text) (2.23.0)\n",
            "Requirement already satisfied: google-auth-oauthlib<0.5,>=0.4.1 in /usr/local/lib/python3.7/dist-packages (from tensorboard~=2.5->tensorflow<2.6,>=2.5.0->tensorflow-text) (0.4.4)\n",
            "Requirement already satisfied: google-auth<2,>=1.6.3 in /usr/local/lib/python3.7/dist-packages (from tensorboard~=2.5->tensorflow<2.6,>=2.5.0->tensorflow-text) (1.30.0)\n",
            "Requirement already satisfied: tensorboard-data-server<0.7.0,>=0.6.0 in /usr/local/lib/python3.7/dist-packages (from tensorboard~=2.5->tensorflow<2.6,>=2.5.0->tensorflow-text) (0.6.1)\n",
            "Requirement already satisfied: markdown>=2.6.8 in /usr/local/lib/python3.7/dist-packages (from tensorboard~=2.5->tensorflow<2.6,>=2.5.0->tensorflow-text) (3.3.4)\n",
            "Requirement already satisfied: tensorboard-plugin-wit>=1.6.0 in /usr/local/lib/python3.7/dist-packages (from tensorboard~=2.5->tensorflow<2.6,>=2.5.0->tensorflow-text) (1.8.0)\n",
            "Requirement already satisfied: werkzeug>=0.11.15 in /usr/local/lib/python3.7/dist-packages (from tensorboard~=2.5->tensorflow<2.6,>=2.5.0->tensorflow-text) (1.0.1)\n",
            "Requirement already satisfied: cached-property; python_version < \"3.8\" in /usr/local/lib/python3.7/dist-packages (from h5py~=3.1.0->tensorflow<2.6,>=2.5.0->tensorflow-text) (1.5.2)\n",
            "Requirement already satisfied: idna<3,>=2.5 in /usr/local/lib/python3.7/dist-packages (from requests<3,>=2.21.0->tensorboard~=2.5->tensorflow<2.6,>=2.5.0->tensorflow-text) (2.10)\n",
            "Requirement already satisfied: urllib3!=1.25.0,!=1.25.1,<1.26,>=1.21.1 in /usr/local/lib/python3.7/dist-packages (from requests<3,>=2.21.0->tensorboard~=2.5->tensorflow<2.6,>=2.5.0->tensorflow-text) (1.24.3)\n",
            "Requirement already satisfied: chardet<4,>=3.0.2 in /usr/local/lib/python3.7/dist-packages (from requests<3,>=2.21.0->tensorboard~=2.5->tensorflow<2.6,>=2.5.0->tensorflow-text) (3.0.4)\n",
            "Requirement already satisfied: certifi>=2017.4.17 in /usr/local/lib/python3.7/dist-packages (from requests<3,>=2.21.0->tensorboard~=2.5->tensorflow<2.6,>=2.5.0->tensorflow-text) (2020.12.5)\n",
            "Requirement already satisfied: requests-oauthlib>=0.7.0 in /usr/local/lib/python3.7/dist-packages (from google-auth-oauthlib<0.5,>=0.4.1->tensorboard~=2.5->tensorflow<2.6,>=2.5.0->tensorflow-text) (1.3.0)\n",
            "Requirement already satisfied: rsa<5,>=3.1.4; python_version >= \"3.6\" in /usr/local/lib/python3.7/dist-packages (from google-auth<2,>=1.6.3->tensorboard~=2.5->tensorflow<2.6,>=2.5.0->tensorflow-text) (4.7.2)\n",
            "Requirement already satisfied: cachetools<5.0,>=2.0.0 in /usr/local/lib/python3.7/dist-packages (from google-auth<2,>=1.6.3->tensorboard~=2.5->tensorflow<2.6,>=2.5.0->tensorflow-text) (4.2.2)\n",
            "Requirement already satisfied: pyasn1-modules>=0.2.1 in /usr/local/lib/python3.7/dist-packages (from google-auth<2,>=1.6.3->tensorboard~=2.5->tensorflow<2.6,>=2.5.0->tensorflow-text) (0.2.8)\n",
            "Requirement already satisfied: importlib-metadata; python_version < \"3.8\" in /usr/local/lib/python3.7/dist-packages (from markdown>=2.6.8->tensorboard~=2.5->tensorflow<2.6,>=2.5.0->tensorflow-text) (4.0.1)\n",
            "Requirement already satisfied: oauthlib>=3.0.0 in /usr/local/lib/python3.7/dist-packages (from requests-oauthlib>=0.7.0->google-auth-oauthlib<0.5,>=0.4.1->tensorboard~=2.5->tensorflow<2.6,>=2.5.0->tensorflow-text) (3.1.0)\n",
            "Requirement already satisfied: pyasn1>=0.1.3 in /usr/local/lib/python3.7/dist-packages (from rsa<5,>=3.1.4; python_version >= \"3.6\"->google-auth<2,>=1.6.3->tensorboard~=2.5->tensorflow<2.6,>=2.5.0->tensorflow-text) (0.4.8)\n",
            "Requirement already satisfied: zipp>=0.5 in /usr/local/lib/python3.7/dist-packages (from importlib-metadata; python_version < \"3.8\"->markdown>=2.6.8->tensorboard~=2.5->tensorflow<2.6,>=2.5.0->tensorflow-text) (3.4.1)\n",
            "Collecting transformers\n",
            "  Using cached https://files.pythonhosted.org/packages/d5/43/cfe4ee779bbd6a678ac6a97c5a5cdeb03c35f9eaebbb9720b036680f9a2d/transformers-4.6.1-py3-none-any.whl\n",
            "Requirement already satisfied, skipping upgrade: importlib-metadata; python_version < \"3.8\" in /usr/local/lib/python3.7/dist-packages (from transformers) (4.0.1)\n",
            "Requirement already satisfied, skipping upgrade: numpy>=1.17 in /usr/local/lib/python3.7/dist-packages (from transformers) (1.18.5)\n",
            "Requirement already satisfied, skipping upgrade: tqdm>=4.27 in /usr/local/lib/python3.7/dist-packages (from transformers) (4.41.1)\n",
            "Requirement already satisfied, skipping upgrade: packaging in /usr/local/lib/python3.7/dist-packages (from transformers) (20.9)\n",
            "Requirement already satisfied, skipping upgrade: huggingface-hub==0.0.8 in /usr/local/lib/python3.7/dist-packages (from transformers) (0.0.8)\n",
            "Requirement already satisfied, skipping upgrade: requests in /usr/local/lib/python3.7/dist-packages (from transformers) (2.23.0)\n",
            "Collecting tokenizers<0.11,>=0.10.1\n",
            "  Using cached https://files.pythonhosted.org/packages/d4/e2/df3543e8ffdab68f5acc73f613de9c2b155ac47f162e725dcac87c521c11/tokenizers-0.10.3-cp37-cp37m-manylinux_2_5_x86_64.manylinux1_x86_64.manylinux_2_12_x86_64.manylinux2010_x86_64.whl\n",
            "Requirement already satisfied, skipping upgrade: regex!=2019.12.17 in /usr/local/lib/python3.7/dist-packages (from transformers) (2019.12.20)\n",
            "Requirement already satisfied, skipping upgrade: sacremoses in /usr/local/lib/python3.7/dist-packages (from transformers) (0.0.45)\n",
            "Requirement already satisfied, skipping upgrade: filelock in /usr/local/lib/python3.7/dist-packages (from transformers) (3.0.12)\n",
            "Requirement already satisfied, skipping upgrade: zipp>=0.5 in /usr/local/lib/python3.7/dist-packages (from importlib-metadata; python_version < \"3.8\"->transformers) (3.4.1)\n",
            "Requirement already satisfied, skipping upgrade: typing-extensions>=3.6.4; python_version < \"3.8\" in /usr/local/lib/python3.7/dist-packages (from importlib-metadata; python_version < \"3.8\"->transformers) (3.7.4.3)\n",
            "Requirement already satisfied, skipping upgrade: pyparsing>=2.0.2 in /usr/local/lib/python3.7/dist-packages (from packaging->transformers) (2.4.7)\n",
            "Requirement already satisfied, skipping upgrade: urllib3!=1.25.0,!=1.25.1,<1.26,>=1.21.1 in /usr/local/lib/python3.7/dist-packages (from requests->transformers) (1.24.3)\n",
            "Requirement already satisfied, skipping upgrade: chardet<4,>=3.0.2 in /usr/local/lib/python3.7/dist-packages (from requests->transformers) (3.0.4)\n",
            "Requirement already satisfied, skipping upgrade: idna<3,>=2.5 in /usr/local/lib/python3.7/dist-packages (from requests->transformers) (2.10)\n",
            "Requirement already satisfied, skipping upgrade: certifi>=2017.4.17 in /usr/local/lib/python3.7/dist-packages (from requests->transformers) (2020.12.5)\n",
            "Requirement already satisfied, skipping upgrade: six in /usr/local/lib/python3.7/dist-packages (from sacremoses->transformers) (1.15.0)\n",
            "Requirement already satisfied, skipping upgrade: joblib in /usr/local/lib/python3.7/dist-packages (from sacremoses->transformers) (1.0.1)\n",
            "Requirement already satisfied, skipping upgrade: click in /usr/local/lib/python3.7/dist-packages (from sacremoses->transformers) (7.1.2)\n",
            "Installing collected packages: tokenizers, transformers\n",
            "  Found existing installation: tokenizers 0.9.2\n",
            "    Uninstalling tokenizers-0.9.2:\n",
            "      Successfully uninstalled tokenizers-0.9.2\n",
            "  Found existing installation: transformers 3.4.0\n",
            "    Uninstalling transformers-3.4.0:\n",
            "      Successfully uninstalled transformers-3.4.0\n",
            "Successfully installed tokenizers-0.10.3 transformers-4.6.1\n"
          ],
          "name": "stdout"
        }
      ]
    },
    {
      "cell_type": "code",
      "metadata": {
        "colab": {
          "base_uri": "https://localhost:8080/"
        },
        "id": "FH9nOr5iPndw",
        "outputId": "9c6c4bfd-de97-4a90-fdbe-554da0a7a581"
      },
      "source": [
        "!mkdir models/lang_detect\n",
        "!mkdir models/cat_detect\n",
        "!wget https://www.dropbox.com/s/hoapmnvqlknmu6v/lang_detect_v10.ftz -O models/lang_detect/lang_detect_v10.ftz\n",
        "!wget https://www.dropbox.com/s/23x35wuet280eh6/ru_cat_v5.ftz -O models/cat_detect/ru_cat_v5.ftz"
      ],
      "execution_count": null,
      "outputs": [
        {
          "output_type": "stream",
          "text": [
            "mkdir: cannot create directory ‘models/lang_detect’: File exists\n",
            "mkdir: cannot create directory ‘models/cat_detect’: File exists\n",
            "--2021-05-31 19:01:18--  https://www.dropbox.com/s/hoapmnvqlknmu6v/lang_detect_v10.ftz\n",
            "Resolving www.dropbox.com (www.dropbox.com)... 162.125.2.18, 2620:100:6020:18::a27d:4012\n",
            "Connecting to www.dropbox.com (www.dropbox.com)|162.125.2.18|:443... connected.\n",
            "HTTP request sent, awaiting response... 301 Moved Permanently\n",
            "Location: /s/raw/hoapmnvqlknmu6v/lang_detect_v10.ftz [following]\n",
            "--2021-05-31 19:01:18--  https://www.dropbox.com/s/raw/hoapmnvqlknmu6v/lang_detect_v10.ftz\n",
            "Reusing existing connection to www.dropbox.com:443.\n",
            "HTTP request sent, awaiting response... 302 Found\n",
            "Location: https://uc869eba773e6afbb8fe2ba9c830.dl.dropboxusercontent.com/cd/0/inline/BPiCY4qUgCDzolN6zzMh6zgqseB89437hcv7ykL4Aj-KHvyZquoVF2ZeZ_qG72Wjwj8szr72I3EqYgZsIQd_o6oiMuTK_5BBaocC-D8A1MmCmeQuCp4j7onfu5VuSxBEtcXED5TsnfeLjyYqDNAtxAzs/file# [following]\n",
            "--2021-05-31 19:01:19--  https://uc869eba773e6afbb8fe2ba9c830.dl.dropboxusercontent.com/cd/0/inline/BPiCY4qUgCDzolN6zzMh6zgqseB89437hcv7ykL4Aj-KHvyZquoVF2ZeZ_qG72Wjwj8szr72I3EqYgZsIQd_o6oiMuTK_5BBaocC-D8A1MmCmeQuCp4j7onfu5VuSxBEtcXED5TsnfeLjyYqDNAtxAzs/file\n",
            "Resolving uc869eba773e6afbb8fe2ba9c830.dl.dropboxusercontent.com (uc869eba773e6afbb8fe2ba9c830.dl.dropboxusercontent.com)... 162.125.4.15, 2620:100:6020:15::a27d:400f\n",
            "Connecting to uc869eba773e6afbb8fe2ba9c830.dl.dropboxusercontent.com (uc869eba773e6afbb8fe2ba9c830.dl.dropboxusercontent.com)|162.125.4.15|:443... connected.\n",
            "HTTP request sent, awaiting response... 302 Found\n",
            "Location: /cd/0/inline2/BPg0LAfhEsEwdQx1i_7GMRpmzf--joyh9kTNKwx9q74WpQ8aZrLNiP2tXYdKx3xx7W33tv6NzJEnOUj0_q7ZSevIWAN5Xjdy7Lw7tsntqSkm5RHoqgT-v1M8p15gs4-5lZ0ogoeuy6fwGpUPQRUoTzOq05bjorbv6UhU1QEPL7FNtwsQChPvYgqsdHfa8Sqjmy8AjLHCcT5B6OHt7my9iOqGi8cROhai18ehYIEa1LhPQHPUSG2L26RB5botE8c96VEaiaXsoOY7sz_b7MV1tZtjpomSnnFbErZgCKq_qkEH4JGizWJFEd4Zy9sJ6985GctUlh8FgN_FB5T8uj-pLFd67_bRSIMThYJzJ_h7fGspREzUq-fo7_T6yYjHkzmFYPI/file [following]\n",
            "--2021-05-31 19:01:19--  https://uc869eba773e6afbb8fe2ba9c830.dl.dropboxusercontent.com/cd/0/inline2/BPg0LAfhEsEwdQx1i_7GMRpmzf--joyh9kTNKwx9q74WpQ8aZrLNiP2tXYdKx3xx7W33tv6NzJEnOUj0_q7ZSevIWAN5Xjdy7Lw7tsntqSkm5RHoqgT-v1M8p15gs4-5lZ0ogoeuy6fwGpUPQRUoTzOq05bjorbv6UhU1QEPL7FNtwsQChPvYgqsdHfa8Sqjmy8AjLHCcT5B6OHt7my9iOqGi8cROhai18ehYIEa1LhPQHPUSG2L26RB5botE8c96VEaiaXsoOY7sz_b7MV1tZtjpomSnnFbErZgCKq_qkEH4JGizWJFEd4Zy9sJ6985GctUlh8FgN_FB5T8uj-pLFd67_bRSIMThYJzJ_h7fGspREzUq-fo7_T6yYjHkzmFYPI/file\n",
            "Reusing existing connection to uc869eba773e6afbb8fe2ba9c830.dl.dropboxusercontent.com:443.\n",
            "HTTP request sent, awaiting response... 200 OK\n",
            "Length: 1267083 (1.2M) [application/octet-stream]\n",
            "Saving to: ‘models/lang_detect/lang_detect_v10.ftz’\n",
            "\n",
            "models/lang_detect/ 100%[===================>]   1.21M  3.18MB/s    in 0.4s    \n",
            "\n",
            "2021-05-31 19:01:20 (3.18 MB/s) - ‘models/lang_detect/lang_detect_v10.ftz’ saved [1267083/1267083]\n",
            "\n",
            "--2021-05-31 19:01:20--  https://www.dropbox.com/s/23x35wuet280eh6/ru_cat_v5.ftz\n",
            "Resolving www.dropbox.com (www.dropbox.com)... 162.125.2.18, 2620:100:6020:18::a27d:4012\n",
            "Connecting to www.dropbox.com (www.dropbox.com)|162.125.2.18|:443... connected.\n",
            "HTTP request sent, awaiting response... 301 Moved Permanently\n",
            "Location: /s/raw/23x35wuet280eh6/ru_cat_v5.ftz [following]\n",
            "--2021-05-31 19:01:20--  https://www.dropbox.com/s/raw/23x35wuet280eh6/ru_cat_v5.ftz\n",
            "Reusing existing connection to www.dropbox.com:443.\n",
            "HTTP request sent, awaiting response... 302 Found\n",
            "Location: https://uc32011d87f31f17fb350e5e66e7.dl.dropboxusercontent.com/cd/0/inline/BPikPE67sPnYD8itsaZlNHkOwctYvy3mLO-2s9RLcxj7q5hd1R4JgbYrkl1wSB4rheCX3JseeHYQCE8vt4do8QqZcZktcgIfpNymaGJOoRudn1HQiQJaldDs7UYesV0sZEQ5nlD18P_fk9hP_ltb1uZq/file# [following]\n",
            "--2021-05-31 19:01:20--  https://uc32011d87f31f17fb350e5e66e7.dl.dropboxusercontent.com/cd/0/inline/BPikPE67sPnYD8itsaZlNHkOwctYvy3mLO-2s9RLcxj7q5hd1R4JgbYrkl1wSB4rheCX3JseeHYQCE8vt4do8QqZcZktcgIfpNymaGJOoRudn1HQiQJaldDs7UYesV0sZEQ5nlD18P_fk9hP_ltb1uZq/file\n",
            "Resolving uc32011d87f31f17fb350e5e66e7.dl.dropboxusercontent.com (uc32011d87f31f17fb350e5e66e7.dl.dropboxusercontent.com)... 162.125.4.15, 2620:100:6020:15::a27d:400f\n",
            "Connecting to uc32011d87f31f17fb350e5e66e7.dl.dropboxusercontent.com (uc32011d87f31f17fb350e5e66e7.dl.dropboxusercontent.com)|162.125.4.15|:443... connected.\n",
            "HTTP request sent, awaiting response... 302 Found\n",
            "Location: /cd/0/inline2/BPjjuXU7F_g-ABPfpYIYT57q1EyPT4c5T6DpDofp_xDw7dJKIFnvIzEj5i0IWFE5a6yVctjtiRpOwHC7Fnt7bjs8Ye8GyLRnnWL_qhN7Zux_Sm_OzdfULDwf9Qj4kxs1M3chuciCdca9ozS7d9Pz9HBXneSeQft4CYHZ2PGXja7FFTwWcF7flZaEBK1NKWhNQMybkOejzitZZebFaOG3lZOx3IJtl4f5up-t-8vLuoIqZPp4Ex99lcx0nGuqcxEUNRC2OvYVNqxez9DuIN_cAek9XX_tYonAhKYiF2ObSm_XY_OxLj7pROu99hoDzz8v8IY0CYcZuylKjP2uf2Gzyvt1vwL8x-7nEw5Ihw9ws73pdwsGqnta3ZD1po787citkNE/file [following]\n",
            "--2021-05-31 19:01:21--  https://uc32011d87f31f17fb350e5e66e7.dl.dropboxusercontent.com/cd/0/inline2/BPjjuXU7F_g-ABPfpYIYT57q1EyPT4c5T6DpDofp_xDw7dJKIFnvIzEj5i0IWFE5a6yVctjtiRpOwHC7Fnt7bjs8Ye8GyLRnnWL_qhN7Zux_Sm_OzdfULDwf9Qj4kxs1M3chuciCdca9ozS7d9Pz9HBXneSeQft4CYHZ2PGXja7FFTwWcF7flZaEBK1NKWhNQMybkOejzitZZebFaOG3lZOx3IJtl4f5up-t-8vLuoIqZPp4Ex99lcx0nGuqcxEUNRC2OvYVNqxez9DuIN_cAek9XX_tYonAhKYiF2ObSm_XY_OxLj7pROu99hoDzz8v8IY0CYcZuylKjP2uf2Gzyvt1vwL8x-7nEw5Ihw9ws73pdwsGqnta3ZD1po787citkNE/file\n",
            "Reusing existing connection to uc32011d87f31f17fb350e5e66e7.dl.dropboxusercontent.com:443.\n",
            "HTTP request sent, awaiting response... 200 OK\n",
            "Length: 103892031 (99M) [application/octet-stream]\n",
            "Saving to: ‘models/cat_detect/ru_cat_v5.ftz’\n",
            "\n",
            "models/cat_detect/r 100%[===================>]  99.08M  30.5MB/s    in 3.6s    \n",
            "\n",
            "2021-05-31 19:01:25 (27.4 MB/s) - ‘models/cat_detect/ru_cat_v5.ftz’ saved [103892031/103892031]\n",
            "\n"
          ],
          "name": "stdout"
        }
      ]
    },
    {
      "cell_type": "markdown",
      "metadata": {
        "id": "jfIgnuQGdqa7"
      },
      "source": [
        "# Data loading"
      ]
    },
    {
      "cell_type": "code",
      "metadata": {
        "colab": {
          "base_uri": "https://localhost:8080/"
        },
        "id": "JwMGd7PoNlXT",
        "outputId": "94c7b204-d061-4eaa-fe85-2f21d9a0c586"
      },
      "source": [
        "# May 25 (training)\n",
        "!rm -rf data\n",
        "!mkdir -p data\n",
        "!cd data && wget https://data-static.usercontent.dev/DataClusteringDataset0525.tar.gz -O - | tar -xz && cd ../\n",
        "# May 27 and 29 (test)\n",
        "!cd data && wget https://data-static.usercontent.dev/DataClusteringDataset0527.tar.gz -O - | tar -xz && cd ../\n",
        "!cd data && wget https://data-static.usercontent.dev/DataClusteringDataset0529.tar.gz -O - | tar -xz && cd ../"
      ],
      "execution_count": null,
      "outputs": [
        {
          "output_type": "stream",
          "text": [
            "--2021-05-31 19:01:38--  https://data-static.usercontent.dev/DataClusteringDataset0525.tar.gz\n",
            "Resolving data-static.usercontent.dev (data-static.usercontent.dev)... 178.128.255.27\n",
            "Connecting to data-static.usercontent.dev (data-static.usercontent.dev)|178.128.255.27|:443... connected.\n",
            "HTTP request sent, awaiting response... 200 OK\n",
            "Length: 145541247 (139M) [application/octet-stream]\n",
            "Saving to: ‘STDOUT’\n",
            "\n",
            "-                   100%[===================>] 138.80M  14.9MB/s    in 10s     \n",
            "\n",
            "2021-05-31 19:01:49 (13.9 MB/s) - written to stdout [145541247/145541247]\n",
            "\n",
            "--2021-05-31 19:01:49--  https://data-static.usercontent.dev/DataClusteringDataset0527.tar.gz\n",
            "Resolving data-static.usercontent.dev (data-static.usercontent.dev)... 178.128.255.27\n",
            "Connecting to data-static.usercontent.dev (data-static.usercontent.dev)|178.128.255.27|:443... connected.\n",
            "HTTP request sent, awaiting response... 200 OK\n",
            "Length: 166313405 (159M) [application/octet-stream]\n",
            "Saving to: ‘STDOUT’\n",
            "\n",
            "-                   100%[===================>] 158.61M  17.4MB/s    in 11s     \n",
            "\n",
            "2021-05-31 19:02:00 (14.5 MB/s) - written to stdout [166313405/166313405]\n",
            "\n",
            "--2021-05-31 19:02:00--  https://data-static.usercontent.dev/DataClusteringDataset0529.tar.gz\n",
            "Resolving data-static.usercontent.dev (data-static.usercontent.dev)... 178.128.255.27\n",
            "Connecting to data-static.usercontent.dev (data-static.usercontent.dev)|178.128.255.27|:443... connected.\n",
            "HTTP request sent, awaiting response... 200 OK\n",
            "Length: 158025808 (151M) [application/octet-stream]\n",
            "Saving to: ‘STDOUT’\n",
            "\n",
            "-                   100%[===================>] 150.71M  17.5MB/s    in 11s     \n",
            "\n",
            "2021-05-31 19:02:12 (14.0 MB/s) - written to stdout [158025808/158025808]\n",
            "\n"
          ],
          "name": "stdout"
        }
      ]
    },
    {
      "cell_type": "code",
      "metadata": {
        "colab": {
          "base_uri": "https://localhost:8080/"
        },
        "id": "ULafjQDhScVM",
        "outputId": "cbc12073-bedf-48f8-8bc9-40093bfa4c13"
      },
      "source": [
        "%%writefile configs/cleaner.jsonnet\n",
        "{\n",
        "    \"lang_detect_model_path\": \"models/lang_detect/lang_detect_v10.ftz\",\n",
        "    \"cat_detect_model_path\": \"models/cat_detect/ru_cat_v5.ftz\",\n",
        "    \"is_lower\": true,\n",
        "    \"is_russian_only\": true,\n",
        "    \"is_news_only\": true\n",
        "}"
      ],
      "execution_count": null,
      "outputs": [
        {
          "output_type": "stream",
          "text": [
            "Overwriting configs/cleaner.jsonnet\n"
          ],
          "name": "stdout"
        }
      ]
    },
    {
      "cell_type": "code",
      "metadata": {
        "colab": {
          "base_uri": "https://localhost:8080/"
        },
        "id": "qTFWbKgxOykP",
        "outputId": "eebcda6c-e832-4802-8ee7-63d9986c4124"
      },
      "source": [
        "!rm -f 0525_parsed.db\n",
        "!python3 -m purano.run_parse --inputs \"data/20200525\" --output-file 0525_parsed.db --fmt html --cleaner-config configs/cleaner.jsonnet\n",
        "!rm -f 0527_parsed.db\n",
        "!python3 -m purano.run_parse --inputs \"data/20200527\" --output-file 0527_parsed.db --fmt html --cleaner-config configs/cleaner.jsonnet\n",
        "!rm -f 0529_parsed.db\n",
        "!python3 -m purano.run_parse --inputs \"data/20200529\" --output-file 0529_parsed.db --fmt html --cleaner-config configs/cleaner.jsonnet"
      ],
      "execution_count": null,
      "outputs": [
        {
          "output_type": "stream",
          "text": [
            "Warning : `load_model` does not return WordVectorModel or SupervisedModel any more, but a `FastText` object which is very similar.\n",
            "Warning : `load_model` does not return WordVectorModel or SupervisedModel any more, but a `FastText` object which is very similar.\n",
            "Parsed 10000 documents\n",
            "Parsed 20000 documents\n",
            "Parsed 30000 documents\n",
            "Parsed 40000 documents\n",
            "Parsed 50000 documents\n",
            "Parsed 60000 documents\n",
            "Parsed 70000 documents\n",
            "Parsed 80000 documents\n",
            "19380 will be saved\n",
            "<class 'pandas.core.frame.DataFrame'>\n",
            "Int64Index: 19380 entries, 19379 to 16008\n",
            "Data columns (total 8 columns):\n",
            " #   Column         Non-Null Count  Dtype                    \n",
            "---  ------         --------------  -----                    \n",
            " 0   url            19380 non-null  object                   \n",
            " 1   host           19380 non-null  object                   \n",
            " 2   title          19380 non-null  object                   \n",
            " 3   text           19380 non-null  object                   \n",
            " 4   date           19380 non-null  datetime64[ns, tzlocal()]\n",
            " 5   patched_title  19380 non-null  object                   \n",
            " 6   patched_text   19380 non-null  object                   \n",
            " 7   category       19380 non-null  object                   \n",
            "dtypes: datetime64[ns, tzlocal()](1), object(7)\n",
            "memory usage: 1.3+ MB\n",
            "None\n",
            "                                                     url  ...    category\n",
            "19379  https://vestikavkaza.ru/news/na-plazah-soci-bu...  ...     society\n",
            "18536  https://mordoviatv.ru/v-bolniczah-mordovii-132...  ...     society\n",
            "18537  http://uza.uz/oz/society/yangi-kitob-sevgim-me...  ...     society\n",
            "18538  https://keddr.com/2020/05/realme-prezentovala-...  ...  technology\n",
            "18539  https://ulpressa.ru/2020/05/25/%d0%b2-%d0%b7%d...  ...     society\n",
            "\n",
            "[5 rows x 8 columns]\n",
            "Warning : `load_model` does not return WordVectorModel or SupervisedModel any more, but a `FastText` object which is very similar.\n",
            "Warning : `load_model` does not return WordVectorModel or SupervisedModel any more, but a `FastText` object which is very similar.\n",
            "Parsed 10000 documents\n",
            "Parsed 20000 documents\n",
            "Parsed 30000 documents\n",
            "Parsed 40000 documents\n",
            "Parsed 50000 documents\n",
            "Parsed 60000 documents\n",
            "Parsed 70000 documents\n",
            "Parsed 80000 documents\n",
            "Parsed 90000 documents\n",
            "20080 will be saved\n",
            "<class 'pandas.core.frame.DataFrame'>\n",
            "Int64Index: 20080 entries, 20079 to 16406\n",
            "Data columns (total 8 columns):\n",
            " #   Column         Non-Null Count  Dtype                    \n",
            "---  ------         --------------  -----                    \n",
            " 0   url            20080 non-null  object                   \n",
            " 1   host           20080 non-null  object                   \n",
            " 2   title          20080 non-null  object                   \n",
            " 3   text           20080 non-null  object                   \n",
            " 4   date           20080 non-null  datetime64[ns, tzlocal()]\n",
            " 5   patched_title  20080 non-null  object                   \n",
            " 6   patched_text   20080 non-null  object                   \n",
            " 7   category       20080 non-null  object                   \n",
            "dtypes: datetime64[ns, tzlocal()](1), object(7)\n",
            "memory usage: 1.4+ MB\n",
            "None\n",
            "                                                     url  ...       category\n",
            "20079  https://vestikavkaza.ru/news/virtualnyj-tbilis...  ...  entertainment\n",
            "19207  https://vestikavkaza.ru/news/v-minzdrave-rf-ra...  ...        society\n",
            "19208                 http://kontrakty.ua/article/156656  ...        society\n",
            "19209  https://www.onlinetambov.ru/news/incident/zhit...  ...        society\n",
            "19211                 http://kontrakty.ua/article/156677  ...        economy\n",
            "\n",
            "[5 rows x 8 columns]\n",
            "Warning : `load_model` does not return WordVectorModel or SupervisedModel any more, but a `FastText` object which is very similar.\n",
            "Warning : `load_model` does not return WordVectorModel or SupervisedModel any more, but a `FastText` object which is very similar.\n",
            "Parsed 10000 documents\n",
            "Parsed 20000 documents\n",
            "Parsed 30000 documents\n",
            "Parsed 40000 documents\n",
            "Parsed 50000 documents\n",
            "Parsed 60000 documents\n",
            "Parsed 70000 documents\n",
            "Parsed 80000 documents\n",
            "Parsed 90000 documents\n",
            "19096 will be saved\n",
            "<class 'pandas.core.frame.DataFrame'>\n",
            "Int64Index: 19096 entries, 19095 to 15519\n",
            "Data columns (total 8 columns):\n",
            " #   Column         Non-Null Count  Dtype                    \n",
            "---  ------         --------------  -----                    \n",
            " 0   url            19096 non-null  object                   \n",
            " 1   host           19096 non-null  object                   \n",
            " 2   title          19096 non-null  object                   \n",
            " 3   text           19096 non-null  object                   \n",
            " 4   date           19096 non-null  datetime64[ns, tzlocal()]\n",
            " 5   patched_title  19096 non-null  object                   \n",
            " 6   patched_text   19096 non-null  object                   \n",
            " 7   category       19096 non-null  object                   \n",
            "dtypes: datetime64[ns, tzlocal()](1), object(7)\n",
            "memory usage: 1.3+ MB\n",
            "None\n",
            "                                                     url  ... category\n",
            "19095  https://vestikavkaza.ru/analytics/ssa-sblizili...  ...  society\n",
            "18315             http://www.c-inform.info/news/id/86200  ...    other\n",
            "18316  https://www.euro-football.ru/article/29/100436...  ...   sports\n",
            "18317  https://www.business-gazeta.ru/news/470157?utm...  ...  economy\n",
            "18318  https://vestikavkaza.ru/news/neobhodimo-sdelat...  ...  society\n",
            "\n",
            "[5 rows x 8 columns]\n"
          ],
          "name": "stdout"
        }
      ]
    },
    {
      "cell_type": "code",
      "metadata": {
        "colab": {
          "base_uri": "https://localhost:8080/"
        },
        "id": "VQs0iG_ATAz1",
        "outputId": "7af3e7e8-089a-4660-8666-4ac797744c8f"
      },
      "source": [
        "from sqlalchemy import create_engine\n",
        "from sqlalchemy.orm import sessionmaker\n",
        "\n",
        "from purano.models import Document\n",
        "\n",
        "def parse_db(file_name):\n",
        "    db_engine = \"sqlite:///{}\".format(file_name)\n",
        "    engine = create_engine(db_engine)\n",
        "    Session = sessionmaker(bind=engine)\n",
        "    session = Session()\n",
        "    query = session.query(Document)\n",
        "    docs = query.all()\n",
        "    records = []\n",
        "    for doc in docs:\n",
        "        records.append({\n",
        "            \"title\": doc.title,\n",
        "            \"text\": doc.text,\n",
        "            \"url\": doc.url,\n",
        "            \"host\": doc.host,\n",
        "            \"timestamp\": doc.date,\n",
        "            \"patched_title\": doc.patched_title,\n",
        "            \"patched_text\": doc.patched_text\n",
        "        })\n",
        "    return records\n",
        "\n",
        "train_records = parse_db(\"0525_parsed.db\")\n",
        "test_0527_records = parse_db(\"0527_parsed.db\")\n",
        "test_0529_records = parse_db(\"0529_parsed.db\")\n",
        "print(len(train_records))\n",
        "print(len(test_0527_records))\n",
        "print(len(test_0529_records))\n",
        "print(train_records[0])"
      ],
      "execution_count": null,
      "outputs": [
        {
          "output_type": "stream",
          "text": [
            "19380\n",
            "20080\n",
            "19096\n",
            "{'title': 'На пляжах Сочи будут камеры хранения и металлодетекторы', 'text': 'В Сочи с первого дня лета начнут работать 65 пляжей санаторно-курортных учреждений. Они будут доступны только для отдыхающих санатория и будут иметь закрытую приморскую территорию. Сейчас на пляжах устанавливают тревожные кнопки, сигнализацию и системы видеонаблюдения, а после их открытия власти намерены следить за тем, как туристы соблюдают социальную дистанцию. \"К началу сезона на 82 городских пляжах установят новые источники освещения и камеры хранения. Такие меры предусмотрены и на пляжах санаториев. Кроме того, прорабатывается вопрос организации стационарных металлодетекторов при входе в береговую зону\", - сообщили в пресс-службе мэрии Сочи, передает портал Юга.ру. В администрации курорта добавили: несмотря на то, что в Сочи продолжаются карантинные мероприятия, подготовка к курортному сезону идет по плану, сочинцы и гости курорта смогут посещать общественные места, как только в городе будет снят режим карантина. Напомним, в Краснодарском крае число подтвержденных случаев COVID-19 на сегодняшний день составило 3 тыс 337 человек. В Сочи к этому дню выявили 309 инфицированных COVID-19.', 'url': 'https://vestikavkaza.ru/news/na-plazah-soci-budut-kamery-hranenia-i-metallodetektory.html', 'host': 'vestikavkaza.ru', 'timestamp': datetime.datetime(2020, 5, 25, 0, 0), 'patched_title': 'на пляжах сочи будут камеры хранения и металлодетекторы', 'patched_text': 'в сочи с первого дня лета начнут работать 65 пляжей санаторно-курортных учреждений . они будут доступны только для отдыхающих санатория и будут иметь закрытую приморскую территорию . сейчас на пляжах устанавливают тревожные кнопки , сигнализацию и системы видеонаблюдения , а после их открытия власти намерены следить за тем , как туристы соблюдают социальную дистанцию . \" к началу сезона на 82 городских пляжах установят новые источники освещения и камеры хранения . такие меры предусмотрены и на пляжах санаториев . кроме того , прорабатывается вопрос организации стационарных металлодетекторов при входе в береговую зону \" , - сообщили в пресс-службе мэрии сочи , передает портал юга.ру . в администрации курорта добавили : несмотря на то , что в сочи продолжаются карантинные мероприятия , подготовка к курортному сезону идет по плану , сочинцы и гости курорта смогут посещать общественные места , как только в городе будет снят режим карантина . напомним , в краснодарском крае число подтвержденных случаев covid-19 на сегодняшний день составило 3 тыс 337 человек . в сочи к этому дню выявили 309 инфицированных covid-19 .'}\n"
          ],
          "name": "stdout"
        }
      ]
    },
    {
      "cell_type": "code",
      "metadata": {
        "colab": {
          "base_uri": "https://localhost:8080/"
        },
        "id": "xvuR9bc7dsf_",
        "outputId": "210cf835-29d2-4146-8ef1-9d6fdd9dc68c"
      },
      "source": [
        "# Fasttext model tuned on older documents\n",
        "!wget https://www.dropbox.com/s/vttjivmmxw7leea/ru_vectors_v3.bin\n",
        "# Clustering training markup\n",
        "!wget https://www.dropbox.com/s/8lu6dw8zcrn840j/ru_clustering_0525_urls.tsv\n",
        "# Clustering test set\n",
        "!wget https://www.dropbox.com/s/v2lbfft6pgzoeq3/ru_clustering_test_fixed.tsv\n",
        "# Headline selection training set\n",
        "!wget https://www.dropbox.com/s/jpcwryaeszqtrf9/titles_markup_0525_urls.tsv\n",
        "# Headline selection test set\n",
        "!wget https://www.dropbox.com/s/v3c0q6msy2pwvfm/titles_markup_test.tsv"
      ],
      "execution_count": null,
      "outputs": [
        {
          "output_type": "stream",
          "text": [
            "--2021-05-31 19:05:17--  https://www.dropbox.com/s/vttjivmmxw7leea/ru_vectors_v3.bin\n",
            "Resolving www.dropbox.com (www.dropbox.com)... 162.125.4.18, 2620:100:6017:18::a27d:212\n",
            "Connecting to www.dropbox.com (www.dropbox.com)|162.125.4.18|:443... connected.\n",
            "HTTP request sent, awaiting response... 301 Moved Permanently\n",
            "Location: /s/raw/vttjivmmxw7leea/ru_vectors_v3.bin [following]\n",
            "--2021-05-31 19:05:17--  https://www.dropbox.com/s/raw/vttjivmmxw7leea/ru_vectors_v3.bin\n",
            "Reusing existing connection to www.dropbox.com:443.\n",
            "HTTP request sent, awaiting response... 302 Found\n",
            "Location: https://uc39c6c745b07c67d4ec0b6e84ca.dl.dropboxusercontent.com/cd/0/inline/BPhQLvZqU5MYm7j7DaHMQ3nlj1z0XG58YW4YdP_5qBApuwX8iJz_ufdWQOQyEKi5vzdXlxG63VuV2RG5LFC1IaFX3d2HetzEajRE79HxctnKDHioJVkJcoXWSS-BbXjtYMe9AuWFhckCTgsqkYTovg0g/file# [following]\n",
            "--2021-05-31 19:05:18--  https://uc39c6c745b07c67d4ec0b6e84ca.dl.dropboxusercontent.com/cd/0/inline/BPhQLvZqU5MYm7j7DaHMQ3nlj1z0XG58YW4YdP_5qBApuwX8iJz_ufdWQOQyEKi5vzdXlxG63VuV2RG5LFC1IaFX3d2HetzEajRE79HxctnKDHioJVkJcoXWSS-BbXjtYMe9AuWFhckCTgsqkYTovg0g/file\n",
            "Resolving uc39c6c745b07c67d4ec0b6e84ca.dl.dropboxusercontent.com (uc39c6c745b07c67d4ec0b6e84ca.dl.dropboxusercontent.com)... 162.125.2.15, 2620:100:6020:15::a27d:400f\n",
            "Connecting to uc39c6c745b07c67d4ec0b6e84ca.dl.dropboxusercontent.com (uc39c6c745b07c67d4ec0b6e84ca.dl.dropboxusercontent.com)|162.125.2.15|:443... connected.\n",
            "HTTP request sent, awaiting response... 302 Found\n",
            "Location: /cd/0/inline2/BPiNMqDPPLhJ0mLFn312iiVodljy8i8k5yT6TTI4BpxrWw4i2DeFeJg_QryBC5aNx7mHdg_fpqLUn5NgOQZmmwxxI1P5xiBo2bbPFovZDaRCKzbk_jbMAzkuMCWikQf2RXl48ydS1VFRv7Rc3b-zTyRCppyBs3Zt23Vq1w1si3Pm-mbvsAdB8ArmIXmo1ZriwDiQIZlaMzKin8h0nezQ4-7weaMREMb97JKsdh09_SwNKDV1PPeO0sseUYbZYU287vfA_xB3yPPPQPeYPxRNTDPx4HeQDMvE4EuNgkoG38h9fxk6mb-Hc9eKWZ0ZksAwJweQ2GrqR2nV6SYTY3I_WJfXMa0nThAiabI5IRWQNuIzxX_62_NSrZwZwQ8eau3xeRo/file [following]\n",
            "--2021-05-31 19:05:18--  https://uc39c6c745b07c67d4ec0b6e84ca.dl.dropboxusercontent.com/cd/0/inline2/BPiNMqDPPLhJ0mLFn312iiVodljy8i8k5yT6TTI4BpxrWw4i2DeFeJg_QryBC5aNx7mHdg_fpqLUn5NgOQZmmwxxI1P5xiBo2bbPFovZDaRCKzbk_jbMAzkuMCWikQf2RXl48ydS1VFRv7Rc3b-zTyRCppyBs3Zt23Vq1w1si3Pm-mbvsAdB8ArmIXmo1ZriwDiQIZlaMzKin8h0nezQ4-7weaMREMb97JKsdh09_SwNKDV1PPeO0sseUYbZYU287vfA_xB3yPPPQPeYPxRNTDPx4HeQDMvE4EuNgkoG38h9fxk6mb-Hc9eKWZ0ZksAwJweQ2GrqR2nV6SYTY3I_WJfXMa0nThAiabI5IRWQNuIzxX_62_NSrZwZwQ8eau3xeRo/file\n",
            "Reusing existing connection to uc39c6c745b07c67d4ec0b6e84ca.dl.dropboxusercontent.com:443.\n",
            "HTTP request sent, awaiting response... 200 OK\n",
            "Length: 369376324 (352M) [application/octet-stream]\n",
            "Saving to: ‘ru_vectors_v3.bin’\n",
            "\n",
            "ru_vectors_v3.bin   100%[===================>] 352.26M  98.1MB/s    in 3.6s    \n",
            "\n",
            "2021-05-31 19:05:23 (98.1 MB/s) - ‘ru_vectors_v3.bin’ saved [369376324/369376324]\n",
            "\n",
            "--2021-05-31 19:05:23--  https://www.dropbox.com/s/8lu6dw8zcrn840j/ru_clustering_0525_urls.tsv\n",
            "Resolving www.dropbox.com (www.dropbox.com)... 162.125.2.18, 2620:100:6020:18::a27d:4012\n",
            "Connecting to www.dropbox.com (www.dropbox.com)|162.125.2.18|:443... connected.\n",
            "HTTP request sent, awaiting response... 301 Moved Permanently\n",
            "Location: /s/raw/8lu6dw8zcrn840j/ru_clustering_0525_urls.tsv [following]\n",
            "--2021-05-31 19:05:23--  https://www.dropbox.com/s/raw/8lu6dw8zcrn840j/ru_clustering_0525_urls.tsv\n",
            "Reusing existing connection to www.dropbox.com:443.\n",
            "HTTP request sent, awaiting response... 302 Found\n",
            "Location: https://uccd65a82a93282aa140dcb4a7f4.dl.dropboxusercontent.com/cd/0/inline/BPg7T23Q_saZmEyAgmz63AfBQ5D49RF7549RllNWo-KsMIwtAcPVBA8Hw0QyXC_Z08fLB5rlfS9KwiiXHy7Y_1NwFnvUyF1TMTlVohMLZcqC1ODPRQvMWAU4CGUDFgmGt6QZmxXEwRTo3h4lwgttPBzp/file# [following]\n",
            "--2021-05-31 19:05:23--  https://uccd65a82a93282aa140dcb4a7f4.dl.dropboxusercontent.com/cd/0/inline/BPg7T23Q_saZmEyAgmz63AfBQ5D49RF7549RllNWo-KsMIwtAcPVBA8Hw0QyXC_Z08fLB5rlfS9KwiiXHy7Y_1NwFnvUyF1TMTlVohMLZcqC1ODPRQvMWAU4CGUDFgmGt6QZmxXEwRTo3h4lwgttPBzp/file\n",
            "Resolving uccd65a82a93282aa140dcb4a7f4.dl.dropboxusercontent.com (uccd65a82a93282aa140dcb4a7f4.dl.dropboxusercontent.com)... 162.125.4.15, 2620:100:6020:15::a27d:400f\n",
            "Connecting to uccd65a82a93282aa140dcb4a7f4.dl.dropboxusercontent.com (uccd65a82a93282aa140dcb4a7f4.dl.dropboxusercontent.com)|162.125.4.15|:443... connected.\n",
            "HTTP request sent, awaiting response... 200 OK\n",
            "Length: 2522689 (2.4M) [text/plain]\n",
            "Saving to: ‘ru_clustering_0525_urls.tsv’\n",
            "\n",
            "ru_clustering_0525_ 100%[===================>]   2.41M  5.11MB/s    in 0.5s    \n",
            "\n",
            "2021-05-31 19:05:24 (5.11 MB/s) - ‘ru_clustering_0525_urls.tsv’ saved [2522689/2522689]\n",
            "\n",
            "--2021-05-31 19:05:24--  https://www.dropbox.com/s/v2lbfft6pgzoeq3/ru_clustering_test_fixed.tsv\n",
            "Resolving www.dropbox.com (www.dropbox.com)... 162.125.2.18, 2620:100:6020:18::a27d:4012\n",
            "Connecting to www.dropbox.com (www.dropbox.com)|162.125.2.18|:443... connected.\n",
            "HTTP request sent, awaiting response... 301 Moved Permanently\n",
            "Location: /s/raw/v2lbfft6pgzoeq3/ru_clustering_test_fixed.tsv [following]\n",
            "--2021-05-31 19:05:25--  https://www.dropbox.com/s/raw/v2lbfft6pgzoeq3/ru_clustering_test_fixed.tsv\n",
            "Reusing existing connection to www.dropbox.com:443.\n",
            "HTTP request sent, awaiting response... 302 Found\n",
            "Location: https://uc1c51f57206c5aa87bec6d8b044.dl.dropboxusercontent.com/cd/0/inline/BPi3DgrjMMKS6cOiHeu3PMl_Y3t7Vq-n_4C6ou94fLnP167bV5xVqn7YhQ6yjJey5lH5uacy3OSUBCSLREY_qfpVGqu1sB_T7fOw0Atz_wtCcplWubD66_qerf2LXHk6te_yQGbmfAO3eld6rjSmp6jO/file# [following]\n",
            "--2021-05-31 19:05:25--  https://uc1c51f57206c5aa87bec6d8b044.dl.dropboxusercontent.com/cd/0/inline/BPi3DgrjMMKS6cOiHeu3PMl_Y3t7Vq-n_4C6ou94fLnP167bV5xVqn7YhQ6yjJey5lH5uacy3OSUBCSLREY_qfpVGqu1sB_T7fOw0Atz_wtCcplWubD66_qerf2LXHk6te_yQGbmfAO3eld6rjSmp6jO/file\n",
            "Resolving uc1c51f57206c5aa87bec6d8b044.dl.dropboxusercontent.com (uc1c51f57206c5aa87bec6d8b044.dl.dropboxusercontent.com)... 162.125.4.15, 2620:100:6020:15::a27d:400f\n",
            "Connecting to uc1c51f57206c5aa87bec6d8b044.dl.dropboxusercontent.com (uc1c51f57206c5aa87bec6d8b044.dl.dropboxusercontent.com)|162.125.4.15|:443... connected.\n",
            "HTTP request sent, awaiting response... 200 OK\n",
            "Length: 2845561 (2.7M) [text/plain]\n",
            "Saving to: ‘ru_clustering_test_fixed.tsv’\n",
            "\n",
            "ru_clustering_test_ 100%[===================>]   2.71M  5.73MB/s    in 0.5s    \n",
            "\n",
            "2021-05-31 19:05:26 (5.73 MB/s) - ‘ru_clustering_test_fixed.tsv’ saved [2845561/2845561]\n",
            "\n",
            "--2021-05-31 19:05:26--  https://www.dropbox.com/s/jpcwryaeszqtrf9/titles_markup_0525_urls.tsv\n",
            "Resolving www.dropbox.com (www.dropbox.com)... 162.125.2.18, 2620:100:6020:18::a27d:4012\n",
            "Connecting to www.dropbox.com (www.dropbox.com)|162.125.2.18|:443... connected.\n",
            "HTTP request sent, awaiting response... 301 Moved Permanently\n",
            "Location: /s/raw/jpcwryaeszqtrf9/titles_markup_0525_urls.tsv [following]\n",
            "--2021-05-31 19:05:26--  https://www.dropbox.com/s/raw/jpcwryaeszqtrf9/titles_markup_0525_urls.tsv\n",
            "Reusing existing connection to www.dropbox.com:443.\n",
            "HTTP request sent, awaiting response... 302 Found\n",
            "Location: https://uc1877205ef38ef89bd471d72f8d.dl.dropboxusercontent.com/cd/0/inline/BPj-EpMWi5rp38nzchAy0mir-voFvY8toT3LqBCE7JawBxr2YAZFdspBZMW8sgcxJGF2zvSn777Dcwg4ZpYEm37DCjJHkfRcFgye2QtWCllafMELj1YVzt26zgyEXx0YFO6p3v4Nz1UVrvMqQ9o_8oBw/file# [following]\n",
            "--2021-05-31 19:05:26--  https://uc1877205ef38ef89bd471d72f8d.dl.dropboxusercontent.com/cd/0/inline/BPj-EpMWi5rp38nzchAy0mir-voFvY8toT3LqBCE7JawBxr2YAZFdspBZMW8sgcxJGF2zvSn777Dcwg4ZpYEm37DCjJHkfRcFgye2QtWCllafMELj1YVzt26zgyEXx0YFO6p3v4Nz1UVrvMqQ9o_8oBw/file\n",
            "Resolving uc1877205ef38ef89bd471d72f8d.dl.dropboxusercontent.com (uc1877205ef38ef89bd471d72f8d.dl.dropboxusercontent.com)... 162.125.4.15, 2620:100:6017:15::a27d:20f\n",
            "Connecting to uc1877205ef38ef89bd471d72f8d.dl.dropboxusercontent.com (uc1877205ef38ef89bd471d72f8d.dl.dropboxusercontent.com)|162.125.4.15|:443... connected.\n",
            "HTTP request sent, awaiting response... 200 OK\n",
            "Length: 851388 (831K) [text/plain]\n",
            "Saving to: ‘titles_markup_0525_urls.tsv’\n",
            "\n",
            "titles_markup_0525_ 100%[===================>] 831.43K  2.24MB/s    in 0.4s    \n",
            "\n",
            "2021-05-31 19:05:27 (2.24 MB/s) - ‘titles_markup_0525_urls.tsv’ saved [851388/851388]\n",
            "\n",
            "--2021-05-31 19:05:27--  https://www.dropbox.com/s/v3c0q6msy2pwvfm/titles_markup_test.tsv\n",
            "Resolving www.dropbox.com (www.dropbox.com)... 162.125.2.18, 2620:100:6020:18::a27d:4012\n",
            "Connecting to www.dropbox.com (www.dropbox.com)|162.125.2.18|:443... connected.\n",
            "HTTP request sent, awaiting response... 301 Moved Permanently\n",
            "Location: /s/raw/v3c0q6msy2pwvfm/titles_markup_test.tsv [following]\n",
            "--2021-05-31 19:05:27--  https://www.dropbox.com/s/raw/v3c0q6msy2pwvfm/titles_markup_test.tsv\n",
            "Reusing existing connection to www.dropbox.com:443.\n",
            "HTTP request sent, awaiting response... 302 Found\n",
            "Location: https://ucaab858f96f442974eb25064d82.dl.dropboxusercontent.com/cd/0/inline/BPjWUtipeFqeR1mMuVKzXhmhFn8FBzo8tD2OVlrTPr-O3Ez5DN2EioXu5lvRVYWYtdngKqSQyqSUSuPblWw-TQ01gn2yPGPB1yOn6j6q70fGnY9tCzrLFdY5cpT-vO0u-A06ojbCpBaUNLUJ1606cVop/file# [following]\n",
            "--2021-05-31 19:05:28--  https://ucaab858f96f442974eb25064d82.dl.dropboxusercontent.com/cd/0/inline/BPjWUtipeFqeR1mMuVKzXhmhFn8FBzo8tD2OVlrTPr-O3Ez5DN2EioXu5lvRVYWYtdngKqSQyqSUSuPblWw-TQ01gn2yPGPB1yOn6j6q70fGnY9tCzrLFdY5cpT-vO0u-A06ojbCpBaUNLUJ1606cVop/file\n",
            "Resolving ucaab858f96f442974eb25064d82.dl.dropboxusercontent.com (ucaab858f96f442974eb25064d82.dl.dropboxusercontent.com)... 162.125.2.15, 2620:100:6020:15::a27d:400f\n",
            "Connecting to ucaab858f96f442974eb25064d82.dl.dropboxusercontent.com (ucaab858f96f442974eb25064d82.dl.dropboxusercontent.com)|162.125.2.15|:443... connected.\n",
            "HTTP request sent, awaiting response... 200 OK\n",
            "Length: 1012662 (989K) [text/plain]\n",
            "Saving to: ‘titles_markup_test.tsv’\n",
            "\n",
            "titles_markup_test. 100%[===================>] 988.93K  --.-KB/s    in 0.1s    \n",
            "\n",
            "2021-05-31 19:05:28 (7.71 MB/s) - ‘titles_markup_test.tsv’ saved [1012662/1012662]\n",
            "\n"
          ],
          "name": "stdout"
        }
      ]
    },
    {
      "cell_type": "markdown",
      "metadata": {
        "id": "Y3X2HRFsr2VU"
      },
      "source": [
        "# Fetching texts for pretraining\n",
        "\n",
        "Optional section, required for TF-IDF and Text-Title models\n",
        "\n",
        "Full list of archives: https://github.com/IlyaGusev/purano/blob/master/raw_datasets.txt"
      ]
    },
    {
      "cell_type": "code",
      "metadata": {
        "colab": {
          "base_uri": "https://localhost:8080/"
        },
        "id": "-Zbyq2jVr4uo",
        "outputId": "ccf1e0b1-7417-4fe5-eb45-9c4fe076bd6a"
      },
      "source": [
        "%%writefile raw_datasets.txt\n",
        "https://data-static.usercontent.dev/DataClusteringSample0410.tar.gz\n",
        "https://data-static.usercontent.dev/DataClusteringSample1117.tar.gz"
      ],
      "execution_count": null,
      "outputs": [
        {
          "output_type": "stream",
          "text": [
            "Overwriting raw_datasets.txt\n"
          ],
          "name": "stdout"
        }
      ]
    },
    {
      "cell_type": "code",
      "metadata": {
        "colab": {
          "base_uri": "https://localhost:8080/"
        },
        "id": "5OUd8NQwr4J2",
        "outputId": "2a9fe650-1ab4-45fe-d607-c66faec7064a"
      },
      "source": [
        "%%writefile download_datasets.sh\n",
        "#!/bin/bash\n",
        "\n",
        "# Download datasets\n",
        "rm -rf raw_datasets\n",
        "mkdir raw_datasets\n",
        "cd raw_datasets\n",
        "wget -i ../raw_datasets.txt\n",
        "for F in *.tar.gz; do\n",
        "    tar -xzf \"$F\"\n",
        "    rm -f \"$F\"\n",
        "done\n",
        "cd ../"
      ],
      "execution_count": null,
      "outputs": [
        {
          "output_type": "stream",
          "text": [
            "Writing download_datasets.sh\n"
          ],
          "name": "stdout"
        }
      ]
    },
    {
      "cell_type": "code",
      "metadata": {
        "colab": {
          "base_uri": "https://localhost:8080/"
        },
        "id": "7fR4wAnir6vc",
        "outputId": "e0b58764-ccd3-406a-9cfe-8a5d622c88fe"
      },
      "source": [
        "!bash download_datasets.sh"
      ],
      "execution_count": null,
      "outputs": [
        {
          "output_type": "stream",
          "text": [
            "--2021-05-31 19:05:28--  https://data-static.usercontent.dev/DataClusteringSample0410.tar.gz\n",
            "Resolving data-static.usercontent.dev (data-static.usercontent.dev)... 178.128.255.27\n",
            "Connecting to data-static.usercontent.dev (data-static.usercontent.dev)|178.128.255.27|:443... connected.\n",
            "HTTP request sent, awaiting response... 200 OK\n",
            "Length: 918103137 (876M) [application/octet-stream]\n",
            "Saving to: ‘DataClusteringSample0410.tar.gz’\n",
            "\n",
            "DataClusteringSampl 100%[===================>] 875.57M  19.4MB/s    in 45s     \n",
            "\n",
            "2021-05-31 19:06:14 (19.6 MB/s) - ‘DataClusteringSample0410.tar.gz’ saved [918103137/918103137]\n",
            "\n",
            "--2021-05-31 19:06:14--  https://data-static.usercontent.dev/DataClusteringSample1117.tar.gz\n",
            "Reusing existing connection to data-static.usercontent.dev:443.\n",
            "HTTP request sent, awaiting response... 200 OK\n",
            "Length: 910299179 (868M) [application/octet-stream]\n",
            "Saving to: ‘DataClusteringSample1117.tar.gz’\n",
            "\n",
            "DataClusteringSampl 100%[===================>] 868.13M  20.0MB/s    in 44s     \n",
            "\n",
            "2021-05-31 19:06:57 (19.9 MB/s) - ‘DataClusteringSample1117.tar.gz’ saved [910299179/910299179]\n",
            "\n",
            "FINISHED --2021-05-31 19:06:57--\n",
            "Total wall clock time: 1m 29s\n",
            "Downloaded: 2 files, 1.7G in 1m 28s (19.7 MB/s)\n"
          ],
          "name": "stdout"
        }
      ]
    },
    {
      "cell_type": "code",
      "metadata": {
        "colab": {
          "base_uri": "https://localhost:8080/",
          "height": 1000,
          "referenced_widgets": [
            "abc877d77d3c458eabfee4f351cbc1f9",
            "808b35345fa44fda8e56c7224e8d3a2b",
            "1cc2ec880b164da89e62d680d5a0dac7",
            "72e5101e81db4df6ac9006b6e0f105f3",
            "3c1c9db1f55c43bfa2b89cc004886e5e",
            "3a2709e76a5e47c08e281ea6f957ad60",
            "77ba7608b7de44ab93fc6cf71a290d32",
            "8088e26f3a0a4b1a8a8b46b2204c37f5"
          ]
        },
        "id": "a38K3kMVr8cp",
        "outputId": "c5764876-4b77-4c58-a1af-02ab574f5cb1"
      },
      "source": [
        "from purano.io import read_tg_html_dir\n",
        "from tqdm.notebook import tqdm\n",
        "\n",
        "from purano.run_parse import DocumentsCleaner\n",
        "\n",
        "cleaner = DocumentsCleaner(\"configs/cleaner.jsonnet\")\n",
        "\n",
        "raw_texts = []\n",
        "pretrain_records = []\n",
        "for i, record in tqdm(enumerate(read_tg_html_dir(\"raw_datasets\"))):\n",
        "    cleaned_document = cleaner(record)\n",
        "    if not cleaned_document:\n",
        "        continue\n",
        "    raw_texts.append(cleaned_document[\"title\"])\n",
        "    raw_texts.append(cleaned_document[\"text\"])\n",
        "    pretrain_records.append(cleaned_document)"
      ],
      "execution_count": null,
      "outputs": [
        {
          "output_type": "stream",
          "text": [
            "Warning : `load_model` does not return WordVectorModel or SupervisedModel any more, but a `FastText` object which is very similar.\n",
            "Warning : `load_model` does not return WordVectorModel or SupervisedModel any more, but a `FastText` object which is very similar.\n"
          ],
          "name": "stderr"
        },
        {
          "output_type": "display_data",
          "data": {
            "application/vnd.jupyter.widget-view+json": {
              "model_id": "abc877d77d3c458eabfee4f351cbc1f9",
              "version_minor": 0,
              "version_major": 2
            },
            "text/plain": [
              "HBox(children=(FloatProgress(value=1.0, bar_style='info', max=1.0), HTML(value='')))"
            ]
          },
          "metadata": {
            "tags": []
          }
        },
        {
          "output_type": "stream",
          "text": [
            "Parsed 10000 documents\n",
            "Parsed 20000 documents\n",
            "Parsed 30000 documents\n",
            "Parsed 40000 documents\n",
            "Parsed 50000 documents\n",
            "Parsed 60000 documents\n",
            "Parsed 70000 documents\n",
            "Parsed 80000 documents\n",
            "Parsed 90000 documents\n",
            "Parsed 100000 documents\n",
            "Parsed 110000 documents\n",
            "Parsed 120000 documents\n",
            "Parsed 130000 documents\n",
            "Parsed 140000 documents\n",
            "Parsed 150000 documents\n",
            "Parsed 160000 documents\n",
            "Parsed 170000 documents\n",
            "Parsed 180000 documents\n",
            "Parsed 190000 documents\n",
            "Parsed 200000 documents\n",
            "Parsed 210000 documents\n",
            "Parsed 220000 documents\n",
            "Parsed 230000 documents\n",
            "Parsed 240000 documents\n",
            "Parsed 250000 documents\n",
            "Parsed 260000 documents\n",
            "Parsed 270000 documents\n",
            "Parsed 280000 documents\n",
            "Parsed 290000 documents\n",
            "Parsed 300000 documents\n",
            "Parsed 310000 documents\n",
            "Parsed 320000 documents\n",
            "Parsed 330000 documents\n",
            "Parsed 340000 documents\n",
            "Parsed 350000 documents\n",
            "Parsed 360000 documents\n",
            "Parsed 370000 documents\n",
            "Parsed 380000 documents\n",
            "Parsed 390000 documents\n",
            "Parsed 400000 documents\n",
            "Parsed 410000 documents\n",
            "Parsed 420000 documents\n",
            "Parsed 430000 documents\n",
            "Parsed 440000 documents\n",
            "Parsed 450000 documents\n",
            "Parsed 460000 documents\n",
            "Parsed 470000 documents\n",
            "Parsed 480000 documents\n",
            "Parsed 490000 documents\n",
            "Parsed 500000 documents\n",
            "Parsed 510000 documents\n",
            "Parsed 520000 documents\n",
            "Parsed 530000 documents\n",
            "Parsed 540000 documents\n",
            "Parsed 550000 documents\n",
            "Parsed 560000 documents\n",
            "Parsed 570000 documents\n",
            "Parsed 580000 documents\n",
            "Parsed 590000 documents\n",
            "Parsed 600000 documents\n",
            "Parsed 610000 documents\n",
            "Parsed 620000 documents\n",
            "Parsed 630000 documents\n",
            "Parsed 640000 documents\n",
            "Parsed 650000 documents\n",
            "Parsed 660000 documents\n",
            "Parsed 670000 documents\n",
            "Parsed 680000 documents\n",
            "Parsed 690000 documents\n",
            "Parsed 700000 documents\n",
            "Parsed 710000 documents\n",
            "Parsed 720000 documents\n",
            "Parsed 730000 documents\n",
            "Parsed 740000 documents\n",
            "Parsed 750000 documents\n",
            "Parsed 760000 documents\n",
            "Parsed 770000 documents\n",
            "Parsed 780000 documents\n",
            "Parsed 790000 documents\n",
            "Parsed 800000 documents\n",
            "Parsed 810000 documents\n",
            "Parsed 820000 documents\n",
            "Parsed 830000 documents\n",
            "Parsed 840000 documents\n",
            "Parsed 850000 documents\n",
            "Parsed 860000 documents\n",
            "Parsed 870000 documents\n",
            "Parsed 880000 documents\n",
            "Parsed 890000 documents\n",
            "Parsed 900000 documents\n",
            "Parsed 910000 documents\n",
            "Parsed 920000 documents\n",
            "Parsed 930000 documents\n",
            "Parsed 940000 documents\n",
            "Parsed 950000 documents\n",
            "Parsed 960000 documents\n",
            "Parsed 970000 documents\n",
            "Parsed 980000 documents\n",
            "Parsed 990000 documents\n",
            "Parsed 1000000 documents\n",
            "Parsed 1010000 documents\n",
            "Parsed 1020000 documents\n",
            "Parsed 1030000 documents\n",
            "Parsed 1040000 documents\n",
            "Parsed 1050000 documents\n",
            "Parsed 1060000 documents\n",
            "Parsed 1070000 documents\n",
            "Parsed 1080000 documents\n",
            "Parsed 1090000 documents\n",
            "Parsed 1100000 documents\n",
            "Parsed 1110000 documents\n",
            "Parsed 1120000 documents\n",
            "Parsed 1130000 documents\n",
            "Parsed 1140000 documents\n",
            "Parsed 1150000 documents\n",
            "Parsed 1160000 documents\n",
            "Parsed 1170000 documents\n",
            "Parsed 1180000 documents\n",
            "Parsed 1190000 documents\n",
            "Parsed 1200000 documents\n",
            "Parsed 1210000 documents\n",
            "Parsed 1220000 documents\n",
            "\n"
          ],
          "name": "stdout"
        }
      ]
    },
    {
      "cell_type": "code",
      "metadata": {
        "colab": {
          "base_uri": "https://localhost:8080/"
        },
        "id": "_qm4vX5Rr9uU",
        "outputId": "7e42e668-5777-448a-febf-a34f2ac852db"
      },
      "source": [
        "print(len(pretrain_records))"
      ],
      "execution_count": null,
      "outputs": [
        {
          "output_type": "stream",
          "text": [
            "229601\n"
          ],
          "name": "stdout"
        }
      ]
    },
    {
      "cell_type": "markdown",
      "metadata": {
        "id": "dB2KhRA1yLJg"
      },
      "source": [
        "# Clustering"
      ]
    },
    {
      "cell_type": "markdown",
      "metadata": {
        "id": "w3BfDYysmMio"
      },
      "source": [
        "## Evaluation"
      ]
    },
    {
      "cell_type": "code",
      "metadata": {
        "id": "CJR5XsDg90gy"
      },
      "source": [
        "from purano.io import read_markup_tsv\n",
        "\n",
        "train_markup = read_markup_tsv(\"ru_clustering_0525_urls.tsv\")\n",
        "test_markup = read_markup_tsv(\"ru_clustering_test_fixed.tsv\")"
      ],
      "execution_count": null,
      "outputs": []
    },
    {
      "cell_type": "code",
      "metadata": {
        "id": "5DVSdqRDmOvY"
      },
      "source": [
        "from collections import Counter\n",
        "from statistics import median, mean\n",
        "from sklearn.cluster import AgglomerativeClustering\n",
        "from purano.clusterer.metrics import calc_metrics\n",
        "\n",
        "def get_quality(markup, embeds, records, dist_threshold, print_result=False):\n",
        "    clustering_model = AgglomerativeClustering(\n",
        "        n_clusters=None,\n",
        "        distance_threshold=dist_threshold,\n",
        "        linkage=\"average\",\n",
        "        affinity=\"cosine\"\n",
        "    )\n",
        "\n",
        "    clustering_model.fit(embeds)\n",
        "    labels = clustering_model.labels_\n",
        "\n",
        "    idx2url = dict()\n",
        "    url2record = dict()\n",
        "    for i, record in enumerate(records):\n",
        "        idx2url[i] = record[\"url\"]\n",
        "        url2record[record[\"url\"]] = record\n",
        "\n",
        "    url2label = dict()\n",
        "    for i, label in enumerate(labels):\n",
        "        url2label[idx2url[i]] = label\n",
        "        \n",
        "    metrics = calc_metrics(markup, url2record, url2label)[0]\n",
        "    if print_result:\n",
        "        print()\n",
        "        print(\"Accuracy: {:.1f}\".format(metrics[\"accuracy\"] * 100.0))\n",
        "        print(\"Positives Recall: {:.1f}\".format(metrics[\"1\"][\"recall\"] * 100.0))\n",
        "        print(\"Positives Precision: {:.1f}\".format(metrics[\"1\"][\"precision\"] * 100.0))\n",
        "        print(\"Positives F1: {:.1f}\".format(metrics[\"1\"][\"f1-score\"] * 100.0))\n",
        "        print(\"Distance: \", dist_threshold)\n",
        "        sizes = list(Counter(labels).values())\n",
        "        print(\"Max cluster size: \", max(sizes))\n",
        "        print(\"Median cluster size: \", median(sizes))\n",
        "        print(\"Avg cluster size: {:.2f}\".format(mean(sizes)))\n",
        "        return\n",
        "    return metrics[\"1\"][\"f1-score\"]"
      ],
      "execution_count": null,
      "outputs": []
    },
    {
      "cell_type": "code",
      "metadata": {
        "id": "rNAj7QoxEcDI"
      },
      "source": [
        "import copy\n",
        "\n",
        "def form_submission(markup, embeds, records, dist_threshold, dataset_name):\n",
        "    clustering_model = AgglomerativeClustering(\n",
        "        n_clusters=None,\n",
        "        distance_threshold=dist_threshold,\n",
        "        linkage=\"average\",\n",
        "        affinity=\"cosine\"\n",
        "    )\n",
        "\n",
        "    clustering_model.fit(embeds)\n",
        "    labels = clustering_model.labels_\n",
        "    idx2url = dict()\n",
        "    url2record = dict()\n",
        "    for i, record in enumerate(records):\n",
        "        idx2url[i] = record[\"url\"]\n",
        "        url2record[record[\"url\"]] = record\n",
        "    url2label = dict()\n",
        "    for i, label in enumerate(labels):\n",
        "        url2label[idx2url[i]] = label\n",
        "    submission = []\n",
        "    for record in markup:\n",
        "        dataset = record[\"dataset\"]\n",
        "        if dataset != dataset_name:\n",
        "            continue\n",
        "        first_url = record[\"first_url\"]\n",
        "        second_url = record[\"second_url\"]\n",
        "        r = copy.copy(record)\n",
        "        r[\"quality\"] = \"OK\" if url2label[first_url] == url2label[second_url] else \"BAD\"\n",
        "        submission.append(r)\n",
        "    return submission"
      ],
      "execution_count": null,
      "outputs": []
    },
    {
      "cell_type": "markdown",
      "metadata": {
        "id": "6ZwzQF0PS91N"
      },
      "source": [
        "## USE model"
      ]
    },
    {
      "cell_type": "code",
      "metadata": {
        "colab": {
          "base_uri": "https://localhost:8080/"
        },
        "id": "LtWQAgh1S-7D",
        "outputId": "63aab8fb-c1a8-42a0-baf7-ca8d350bd193"
      },
      "source": [
        "!pip install tensorflow-text tensorflow-hub"
      ],
      "execution_count": null,
      "outputs": [
        {
          "output_type": "stream",
          "text": [
            "Requirement already satisfied: tensorflow-text in /usr/local/lib/python3.7/dist-packages (2.5.0)\n",
            "Requirement already satisfied: tensorflow-hub in /usr/local/lib/python3.7/dist-packages (0.12.0)\n",
            "Requirement already satisfied: tensorflow<2.6,>=2.5.0 in /usr/local/lib/python3.7/dist-packages (from tensorflow-text) (2.5.0)\n",
            "Requirement already satisfied: protobuf>=3.8.0 in /usr/local/lib/python3.7/dist-packages (from tensorflow-hub) (3.12.4)\n",
            "Requirement already satisfied: numpy>=1.12.0 in /usr/local/lib/python3.7/dist-packages (from tensorflow-hub) (1.18.5)\n",
            "Requirement already satisfied: wrapt~=1.12.1 in /usr/local/lib/python3.7/dist-packages (from tensorflow<2.6,>=2.5.0->tensorflow-text) (1.12.1)\n",
            "Requirement already satisfied: keras-preprocessing~=1.1.2 in /usr/local/lib/python3.7/dist-packages (from tensorflow<2.6,>=2.5.0->tensorflow-text) (1.1.2)\n",
            "Requirement already satisfied: termcolor~=1.1.0 in /usr/local/lib/python3.7/dist-packages (from tensorflow<2.6,>=2.5.0->tensorflow-text) (1.1.0)\n",
            "Requirement already satisfied: tensorflow-estimator<2.6.0,>=2.5.0rc0 in /usr/local/lib/python3.7/dist-packages (from tensorflow<2.6,>=2.5.0->tensorflow-text) (2.5.0)\n",
            "Requirement already satisfied: tensorboard~=2.5 in /usr/local/lib/python3.7/dist-packages (from tensorflow<2.6,>=2.5.0->tensorflow-text) (2.5.0)\n",
            "Requirement already satisfied: astunparse~=1.6.3 in /usr/local/lib/python3.7/dist-packages (from tensorflow<2.6,>=2.5.0->tensorflow-text) (1.6.3)\n",
            "Requirement already satisfied: google-pasta~=0.2 in /usr/local/lib/python3.7/dist-packages (from tensorflow<2.6,>=2.5.0->tensorflow-text) (0.2.0)\n",
            "Requirement already satisfied: grpcio~=1.34.0 in /usr/local/lib/python3.7/dist-packages (from tensorflow<2.6,>=2.5.0->tensorflow-text) (1.34.1)\n",
            "Requirement already satisfied: keras-nightly~=2.5.0.dev in /usr/local/lib/python3.7/dist-packages (from tensorflow<2.6,>=2.5.0->tensorflow-text) (2.5.0.dev2021032900)\n",
            "Requirement already satisfied: absl-py~=0.10 in /usr/local/lib/python3.7/dist-packages (from tensorflow<2.6,>=2.5.0->tensorflow-text) (0.12.0)\n",
            "Requirement already satisfied: opt-einsum~=3.3.0 in /usr/local/lib/python3.7/dist-packages (from tensorflow<2.6,>=2.5.0->tensorflow-text) (3.3.0)\n",
            "Requirement already satisfied: typing-extensions~=3.7.4 in /usr/local/lib/python3.7/dist-packages (from tensorflow<2.6,>=2.5.0->tensorflow-text) (3.7.4.3)\n",
            "Requirement already satisfied: h5py~=3.1.0 in /usr/local/lib/python3.7/dist-packages (from tensorflow<2.6,>=2.5.0->tensorflow-text) (3.1.0)\n",
            "Requirement already satisfied: six~=1.15.0 in /usr/local/lib/python3.7/dist-packages (from tensorflow<2.6,>=2.5.0->tensorflow-text) (1.15.0)\n",
            "Requirement already satisfied: flatbuffers~=1.12.0 in /usr/local/lib/python3.7/dist-packages (from tensorflow<2.6,>=2.5.0->tensorflow-text) (1.12)\n",
            "Requirement already satisfied: gast==0.4.0 in /usr/local/lib/python3.7/dist-packages (from tensorflow<2.6,>=2.5.0->tensorflow-text) (0.4.0)\n",
            "Requirement already satisfied: wheel~=0.35 in /usr/local/lib/python3.7/dist-packages (from tensorflow<2.6,>=2.5.0->tensorflow-text) (0.36.2)\n",
            "Requirement already satisfied: setuptools in /usr/local/lib/python3.7/dist-packages (from protobuf>=3.8.0->tensorflow-hub) (56.1.0)\n",
            "Requirement already satisfied: requests<3,>=2.21.0 in /usr/local/lib/python3.7/dist-packages (from tensorboard~=2.5->tensorflow<2.6,>=2.5.0->tensorflow-text) (2.23.0)\n",
            "Requirement already satisfied: tensorboard-data-server<0.7.0,>=0.6.0 in /usr/local/lib/python3.7/dist-packages (from tensorboard~=2.5->tensorflow<2.6,>=2.5.0->tensorflow-text) (0.6.1)\n",
            "Requirement already satisfied: tensorboard-plugin-wit>=1.6.0 in /usr/local/lib/python3.7/dist-packages (from tensorboard~=2.5->tensorflow<2.6,>=2.5.0->tensorflow-text) (1.8.0)\n",
            "Requirement already satisfied: werkzeug>=0.11.15 in /usr/local/lib/python3.7/dist-packages (from tensorboard~=2.5->tensorflow<2.6,>=2.5.0->tensorflow-text) (1.0.1)\n",
            "Requirement already satisfied: google-auth<2,>=1.6.3 in /usr/local/lib/python3.7/dist-packages (from tensorboard~=2.5->tensorflow<2.6,>=2.5.0->tensorflow-text) (1.30.0)\n",
            "Requirement already satisfied: markdown>=2.6.8 in /usr/local/lib/python3.7/dist-packages (from tensorboard~=2.5->tensorflow<2.6,>=2.5.0->tensorflow-text) (3.3.4)\n",
            "Requirement already satisfied: google-auth-oauthlib<0.5,>=0.4.1 in /usr/local/lib/python3.7/dist-packages (from tensorboard~=2.5->tensorflow<2.6,>=2.5.0->tensorflow-text) (0.4.4)\n",
            "Requirement already satisfied: cached-property; python_version < \"3.8\" in /usr/local/lib/python3.7/dist-packages (from h5py~=3.1.0->tensorflow<2.6,>=2.5.0->tensorflow-text) (1.5.2)\n",
            "Requirement already satisfied: idna<3,>=2.5 in /usr/local/lib/python3.7/dist-packages (from requests<3,>=2.21.0->tensorboard~=2.5->tensorflow<2.6,>=2.5.0->tensorflow-text) (2.10)\n",
            "Requirement already satisfied: certifi>=2017.4.17 in /usr/local/lib/python3.7/dist-packages (from requests<3,>=2.21.0->tensorboard~=2.5->tensorflow<2.6,>=2.5.0->tensorflow-text) (2020.12.5)\n",
            "Requirement already satisfied: urllib3!=1.25.0,!=1.25.1,<1.26,>=1.21.1 in /usr/local/lib/python3.7/dist-packages (from requests<3,>=2.21.0->tensorboard~=2.5->tensorflow<2.6,>=2.5.0->tensorflow-text) (1.24.3)\n",
            "Requirement already satisfied: chardet<4,>=3.0.2 in /usr/local/lib/python3.7/dist-packages (from requests<3,>=2.21.0->tensorboard~=2.5->tensorflow<2.6,>=2.5.0->tensorflow-text) (3.0.4)\n",
            "Requirement already satisfied: pyasn1-modules>=0.2.1 in /usr/local/lib/python3.7/dist-packages (from google-auth<2,>=1.6.3->tensorboard~=2.5->tensorflow<2.6,>=2.5.0->tensorflow-text) (0.2.8)\n",
            "Requirement already satisfied: rsa<5,>=3.1.4; python_version >= \"3.6\" in /usr/local/lib/python3.7/dist-packages (from google-auth<2,>=1.6.3->tensorboard~=2.5->tensorflow<2.6,>=2.5.0->tensorflow-text) (4.7.2)\n",
            "Requirement already satisfied: cachetools<5.0,>=2.0.0 in /usr/local/lib/python3.7/dist-packages (from google-auth<2,>=1.6.3->tensorboard~=2.5->tensorflow<2.6,>=2.5.0->tensorflow-text) (4.2.2)\n",
            "Requirement already satisfied: importlib-metadata; python_version < \"3.8\" in /usr/local/lib/python3.7/dist-packages (from markdown>=2.6.8->tensorboard~=2.5->tensorflow<2.6,>=2.5.0->tensorflow-text) (4.0.1)\n",
            "Requirement already satisfied: requests-oauthlib>=0.7.0 in /usr/local/lib/python3.7/dist-packages (from google-auth-oauthlib<0.5,>=0.4.1->tensorboard~=2.5->tensorflow<2.6,>=2.5.0->tensorflow-text) (1.3.0)\n",
            "Requirement already satisfied: pyasn1<0.5.0,>=0.4.6 in /usr/local/lib/python3.7/dist-packages (from pyasn1-modules>=0.2.1->google-auth<2,>=1.6.3->tensorboard~=2.5->tensorflow<2.6,>=2.5.0->tensorflow-text) (0.4.8)\n",
            "Requirement already satisfied: zipp>=0.5 in /usr/local/lib/python3.7/dist-packages (from importlib-metadata; python_version < \"3.8\"->markdown>=2.6.8->tensorboard~=2.5->tensorflow<2.6,>=2.5.0->tensorflow-text) (3.4.1)\n",
            "Requirement already satisfied: oauthlib>=3.0.0 in /usr/local/lib/python3.7/dist-packages (from requests-oauthlib>=0.7.0->google-auth-oauthlib<0.5,>=0.4.1->tensorboard~=2.5->tensorflow<2.6,>=2.5.0->tensorflow-text) (3.1.0)\n"
          ],
          "name": "stdout"
        }
      ]
    },
    {
      "cell_type": "code",
      "metadata": {
        "id": "LncV5ee0TBTg",
        "colab": {
          "base_uri": "https://localhost:8080/"
        },
        "outputId": "8cc5b301-ab6c-4467-941f-f5070c8a2d09"
      },
      "source": [
        "import tensorflow as tf\n",
        "import tensorflow_text\n",
        "import tensorflow_hub as hub\n",
        "\n",
        "module_url = \"https://tfhub.dev/google/universal-sentence-encoder-multilingual/3\"\n",
        "use_model = hub.load(module_url)\n",
        "print(\"module %s loaded\" % module_url)"
      ],
      "execution_count": null,
      "outputs": [
        {
          "output_type": "stream",
          "text": [
            "module https://tfhub.dev/google/universal-sentence-encoder-multilingual/3 loaded\n"
          ],
          "name": "stdout"
        }
      ]
    },
    {
      "cell_type": "code",
      "metadata": {
        "colab": {
          "base_uri": "https://localhost:8080/",
          "height": 84,
          "referenced_widgets": [
            "33f4a3c434704ddab15aaf033792e183",
            "7a354f3f86cf478686a2466bf4a7d69b",
            "e0dadf2f7ad84a73ac505a4d9646cd04",
            "88a0bdaa64c0442dac28ecf3b9f4348c",
            "2ca5646b744f483db0cc41690c5a734c",
            "6a2e6ada52a24ea48b1ef46ace48b502",
            "cef4844b26614770b4ddb3e308937ec6",
            "95d650284c564ca89a1b2365c865f2a5"
          ]
        },
        "id": "EQBLBkECTBnT",
        "outputId": "7f2bfb7c-3942-4b20-c5ce-1ef17a9525b5"
      },
      "source": [
        "import numpy as np\n",
        "import tqdm.notebook as tq\n",
        "\n",
        "\n",
        "def use_get_embedding(text, model):\n",
        "    return model([text]).numpy()[0]\n",
        "\n",
        "def use_records_to_embeds(records, model):\n",
        "    embeddings = np.zeros((len(records), 512))\n",
        "    for i, record in tq.tqdm(enumerate(records)):\n",
        "        embeddings[i] = use_get_embedding(record[\"title\"] + \" \" + record[\"text\"], model)\n",
        "    return embeddings\n",
        "\n",
        "\n",
        "train_use_embeddings = use_records_to_embeds(train_records, use_model)\n",
        "\"\"\"test_0527_use_embeddings = use_records_to_embeds(test_0527_records, use_model)\n",
        "test_0529_use_embeddings = use_records_to_embeds(test_0529_records, use_model)\"\"\""
      ],
      "execution_count": null,
      "outputs": [
        {
          "output_type": "display_data",
          "data": {
            "application/vnd.jupyter.widget-view+json": {
              "model_id": "33f4a3c434704ddab15aaf033792e183",
              "version_minor": 0,
              "version_major": 2
            },
            "text/plain": [
              "HBox(children=(FloatProgress(value=1.0, bar_style='info', max=1.0), HTML(value='')))"
            ]
          },
          "metadata": {
            "tags": []
          }
        },
        {
          "output_type": "stream",
          "text": [
            "\n"
          ],
          "name": "stdout"
        },
        {
          "output_type": "execute_result",
          "data": {
            "application/vnd.google.colaboratory.intrinsic+json": {
              "type": "string"
            },
            "text/plain": [
              "'test_0527_use_embeddings = use_records_to_embeds(test_0527_records, use_model)\\ntest_0529_use_embeddings = use_records_to_embeds(test_0529_records, use_model)'"
            ]
          },
          "metadata": {
            "tags": []
          },
          "execution_count": 21
        }
      ]
    },
    {
      "cell_type": "code",
      "metadata": {
        "colab": {
          "base_uri": "https://localhost:8080/"
        },
        "id": "nyYWgySwTDJ7",
        "outputId": "ebe7aade-0aa2-427e-f4be-d0046b122cac"
      },
      "source": [
        "get_quality(train_markup, train_use_embeddings, train_records, 0.4, print_result=True)"
      ],
      "execution_count": null,
      "outputs": [
        {
          "output_type": "stream",
          "text": [
            "\n",
            "Accuracy: 89.3\n",
            "Positives Recall: 92.5\n",
            "Positives Precision: 86.7\n",
            "Positives F1: 89.5\n",
            "Distance:  0.4\n",
            "Max cluster size:  274\n",
            "Median cluster size:  1.0\n",
            "Avg cluster size: 3.31\n"
          ],
          "name": "stdout"
        }
      ]
    },
    {
      "cell_type": "markdown",
      "metadata": {
        "id": "1iAO0SJyqCpS"
      },
      "source": [
        "\n",
        "Accuracy: 89.3\n",
        "Positives Recall: 92.5\n",
        "Positives Precision: 86.7\n",
        "Positives F1: 89.5\n",
        "Distance:  0.4\n",
        "Max cluster size:  274\n",
        "Median cluster size:  1.0\n",
        "Avg cluster size: 3.31"
      ]
    },
    {
      "cell_type": "code",
      "metadata": {
        "id": "yaJKNREETEQx",
        "colab": {
          "base_uri": "https://localhost:8080/",
          "height": 52
        },
        "outputId": "95cb389a-b0ad-4c61-d221-18024bb59a1b"
      },
      "source": [
        "\"\"\"from purano.io import write_markup_tsv\n",
        "submission_0527_use = form_submission(test_markup, test_0527_use_embeddings, test_0527_records, 0.37, \"0527\")\n",
        "submission_0529_use = form_submission(test_markup, test_0529_use_embeddings, test_0529_records, 0.37, \"0529\")\n",
        "full_submission_use = submission_0527_use + submission_0529_use\n",
        "write_markup_tsv(full_submission_use, \"answer.txt\", res_key=\"quality\")\n",
        "!rm -f submission_use.zip\n",
        "!zip submission_use.zip answer.txt\"\"\""
      ],
      "execution_count": null,
      "outputs": [
        {
          "output_type": "execute_result",
          "data": {
            "application/vnd.google.colaboratory.intrinsic+json": {
              "type": "string"
            },
            "text/plain": [
              "'from purano.io import write_markup_tsv\\nsubmission_0527_use = form_submission(test_markup, test_0527_use_embeddings, test_0527_records, 0.37, \"0527\")\\nsubmission_0529_use = form_submission(test_markup, test_0529_use_embeddings, test_0529_records, 0.37, \"0529\")\\nfull_submission_use = submission_0527_use + submission_0529_use\\nwrite_markup_tsv(full_submission_use, \"answer.txt\", res_key=\"quality\")\\n!rm -f submission_use.zip\\n!zip submission_use.zip answer.txt'"
            ]
          },
          "metadata": {
            "tags": []
          },
          "execution_count": 23
        }
      ]
    },
    {
      "cell_type": "markdown",
      "metadata": {
        "id": "_0FnRdl4YBeA"
      },
      "source": [
        "## BERT model"
      ]
    },
    {
      "cell_type": "code",
      "metadata": {
        "colab": {
          "base_uri": "https://localhost:8080/"
        },
        "id": "uPQZMIurYDmH",
        "outputId": "b9eb9859-c032-40dc-a414-f70a57427caf"
      },
      "source": [
        "!pip install sentence_transformers"
      ],
      "execution_count": null,
      "outputs": [
        {
          "output_type": "stream",
          "text": [
            "Requirement already satisfied: sentence_transformers in /usr/local/lib/python3.7/dist-packages (1.2.0)\n",
            "Requirement already satisfied: transformers<5.0.0,>=3.1.0 in /usr/local/lib/python3.7/dist-packages (from sentence_transformers) (4.6.1)\n",
            "Requirement already satisfied: nltk in /usr/local/lib/python3.7/dist-packages (from sentence_transformers) (3.2.5)\n",
            "Requirement already satisfied: torch>=1.6.0 in /usr/local/lib/python3.7/dist-packages (from sentence_transformers) (1.8.1+cu101)\n",
            "Requirement already satisfied: torchvision in /usr/local/lib/python3.7/dist-packages (from sentence_transformers) (0.9.1+cu101)\n",
            "Requirement already satisfied: scipy in /usr/local/lib/python3.7/dist-packages (from sentence_transformers) (1.4.1)\n",
            "Requirement already satisfied: tqdm in /usr/local/lib/python3.7/dist-packages (from sentence_transformers) (4.41.1)\n",
            "Requirement already satisfied: numpy in /usr/local/lib/python3.7/dist-packages (from sentence_transformers) (1.18.5)\n",
            "Requirement already satisfied: scikit-learn in /usr/local/lib/python3.7/dist-packages (from sentence_transformers) (0.22.2.post1)\n",
            "Requirement already satisfied: sentencepiece in /usr/local/lib/python3.7/dist-packages (from sentence_transformers) (0.1.95)\n",
            "Requirement already satisfied: requests in /usr/local/lib/python3.7/dist-packages (from transformers<5.0.0,>=3.1.0->sentence_transformers) (2.23.0)\n",
            "Requirement already satisfied: filelock in /usr/local/lib/python3.7/dist-packages (from transformers<5.0.0,>=3.1.0->sentence_transformers) (3.0.12)\n",
            "Requirement already satisfied: importlib-metadata; python_version < \"3.8\" in /usr/local/lib/python3.7/dist-packages (from transformers<5.0.0,>=3.1.0->sentence_transformers) (4.0.1)\n",
            "Requirement already satisfied: huggingface-hub==0.0.8 in /usr/local/lib/python3.7/dist-packages (from transformers<5.0.0,>=3.1.0->sentence_transformers) (0.0.8)\n",
            "Requirement already satisfied: regex!=2019.12.17 in /usr/local/lib/python3.7/dist-packages (from transformers<5.0.0,>=3.1.0->sentence_transformers) (2019.12.20)\n",
            "Requirement already satisfied: packaging in /usr/local/lib/python3.7/dist-packages (from transformers<5.0.0,>=3.1.0->sentence_transformers) (20.9)\n",
            "Requirement already satisfied: sacremoses in /usr/local/lib/python3.7/dist-packages (from transformers<5.0.0,>=3.1.0->sentence_transformers) (0.0.45)\n",
            "Requirement already satisfied: tokenizers<0.11,>=0.10.1 in /usr/local/lib/python3.7/dist-packages (from transformers<5.0.0,>=3.1.0->sentence_transformers) (0.10.3)\n",
            "Requirement already satisfied: six in /usr/local/lib/python3.7/dist-packages (from nltk->sentence_transformers) (1.15.0)\n",
            "Requirement already satisfied: typing-extensions in /usr/local/lib/python3.7/dist-packages (from torch>=1.6.0->sentence_transformers) (3.7.4.3)\n",
            "Requirement already satisfied: pillow>=4.1.1 in /usr/local/lib/python3.7/dist-packages (from torchvision->sentence_transformers) (7.1.2)\n",
            "Requirement already satisfied: joblib>=0.11 in /usr/local/lib/python3.7/dist-packages (from scikit-learn->sentence_transformers) (1.0.1)\n",
            "Requirement already satisfied: chardet<4,>=3.0.2 in /usr/local/lib/python3.7/dist-packages (from requests->transformers<5.0.0,>=3.1.0->sentence_transformers) (3.0.4)\n",
            "Requirement already satisfied: urllib3!=1.25.0,!=1.25.1,<1.26,>=1.21.1 in /usr/local/lib/python3.7/dist-packages (from requests->transformers<5.0.0,>=3.1.0->sentence_transformers) (1.24.3)\n",
            "Requirement already satisfied: idna<3,>=2.5 in /usr/local/lib/python3.7/dist-packages (from requests->transformers<5.0.0,>=3.1.0->sentence_transformers) (2.10)\n",
            "Requirement already satisfied: certifi>=2017.4.17 in /usr/local/lib/python3.7/dist-packages (from requests->transformers<5.0.0,>=3.1.0->sentence_transformers) (2020.12.5)\n",
            "Requirement already satisfied: zipp>=0.5 in /usr/local/lib/python3.7/dist-packages (from importlib-metadata; python_version < \"3.8\"->transformers<5.0.0,>=3.1.0->sentence_transformers) (3.4.1)\n",
            "Requirement already satisfied: pyparsing>=2.0.2 in /usr/local/lib/python3.7/dist-packages (from packaging->transformers<5.0.0,>=3.1.0->sentence_transformers) (2.4.7)\n",
            "Requirement already satisfied: click in /usr/local/lib/python3.7/dist-packages (from sacremoses->transformers<5.0.0,>=3.1.0->sentence_transformers) (7.1.2)\n"
          ],
          "name": "stdout"
        }
      ]
    },
    {
      "cell_type": "code",
      "metadata": {
        "colab": {
          "base_uri": "https://localhost:8080/",
          "height": 66,
          "referenced_widgets": [
            "a8dc770027db4a16b0f023e0689ca118",
            "90801140137746fc94f4b7893556237d",
            "ae57e070b63545e4922225f0ff0e250d",
            "6177799c9d6b4983857be33491f7dc06",
            "594f9fe15475443cbb3ba19698e3c804",
            "964c15367cc146b98df9f78599e5ed99",
            "393ebd5a02254514a08cb25538c95270",
            "d1756bc3f3c044b39f91624a8a361cee"
          ]
        },
        "id": "KEeVXOPd4LFS",
        "outputId": "28ea2a60-4f4e-40a3-ce80-b8626c6d9215"
      },
      "source": [
        "from sentence_transformers import SentenceTransformer\n",
        "from sklearn.cluster import AgglomerativeClustering\n",
        "import numpy as np\n",
        "\n",
        "def bert_get_embedding(text, model):\n",
        "    return  model.encode([text])[0] #model([text]).numpy()[0] #embedder.encode([text]).numpy()[0]\n",
        "\n",
        "def bert_records_to_embeds(records, model):\n",
        "    embeddings = np.zeros((len(records), 768))\n",
        "    for i, record in tq.tqdm(enumerate(records)):\n",
        "        embeddings[i] = bert_get_embedding(record[\"title\"] + \" \" + record[\"text\"], model)\n",
        "    return embeddings\n",
        "\n",
        "bert_model = SentenceTransformer('distilbert-multilingual-nli-stsb-quora-ranking') #bert-base-nli-stsb-mean-tokens #bert-base-nli-mean-tokens #bert-base-multilingual-cased #distilbert-multilingual-nli-stsb-quora-ranking\n",
        "\n",
        "train_bert_embeddings = bert_records_to_embeds(train_records, bert_model)\n",
        "#test_0527_bert_embeddings = bert_records_to_embeds(test_0527_records, bert_model)\n",
        "#test_0529_bert_embeddings = bert_records_to_embeds(test_0529_records, bert_model)"
      ],
      "execution_count": null,
      "outputs": [
        {
          "output_type": "display_data",
          "data": {
            "application/vnd.jupyter.widget-view+json": {
              "model_id": "a8dc770027db4a16b0f023e0689ca118",
              "version_minor": 0,
              "version_major": 2
            },
            "text/plain": [
              "HBox(children=(FloatProgress(value=1.0, bar_style='info', max=1.0), HTML(value='')))"
            ]
          },
          "metadata": {
            "tags": []
          }
        },
        {
          "output_type": "stream",
          "text": [
            "\n"
          ],
          "name": "stdout"
        }
      ]
    },
    {
      "cell_type": "code",
      "metadata": {
        "id": "lndoFTfxHcUV"
      },
      "source": [
        "def get_quality_bert(markup, embeds, records, dist_threshold, print_result=False):\n",
        "    clustering_model = AgglomerativeClustering(\n",
        "        n_clusters=None,\n",
        "        distance_threshold=dist_threshold,\n",
        "        linkage=\"average\",\n",
        "        affinity=\"cosine\"\n",
        "    )\n",
        "\n",
        "    clustering_model.fit(embeds)\n",
        "    labels = clustering_model.labels_\n",
        "\n",
        "    idx2url = dict()\n",
        "    url2record = dict()\n",
        "    for i, record in enumerate(records):\n",
        "        idx2url[i] = record[\"url\"]\n",
        "        url2record[record[\"url\"]] = record\n",
        "\n",
        "    url2label = dict()\n",
        "    for i, label in enumerate(labels):\n",
        "        url2label[idx2url[i]] = label\n",
        "        \n",
        "    metrics = calc_metrics(markup, url2record, url2label)[0]\n",
        "    if print_result:\n",
        "        print()\n",
        "        print(\"Accuracy: {:.1f}\".format(metrics[\"accuracy\"] * 100.0))\n",
        "        print(\"Positives Recall: {:.1f}\".format(metrics[\"1\"][\"recall\"] * 100.0))\n",
        "        print(\"Positives Precision: {:.1f}\".format(metrics[\"1\"][\"precision\"] * 100.0))\n",
        "        print(\"Positives F1: {:.1f}\".format(metrics[\"1\"][\"f1-score\"] * 100.0))\n",
        "        print(\"Distance: \", dist_threshold)\n",
        "        sizes = list(Counter(labels).values())\n",
        "        print(\"Max cluster size: \", max(sizes))\n",
        "        print(\"Median cluster size: \", median(sizes))\n",
        "        print(\"Avg cluster size: {:.2f}\".format(mean(sizes)))\n",
        "        return\n",
        "    return metrics[\"1\"][\"f1-score\"]"
      ],
      "execution_count": null,
      "outputs": []
    },
    {
      "cell_type": "code",
      "metadata": {
        "id": "r7adkZDg4dwC",
        "colab": {
          "base_uri": "https://localhost:8080/"
        },
        "outputId": "e49d112c-7e1c-45d7-8836-efcba0b68d67"
      },
      "source": [
        "get_quality_bert(train_markup, train_bert_embeddings, train_records, 0.05, print_result=True) #0.05 distilbert-multilingual-nli-stsb-quora-ranking"
      ],
      "execution_count": null,
      "outputs": [
        {
          "output_type": "stream",
          "text": [
            "\n",
            "Accuracy: 84.1\n",
            "Positives Recall: 83.5\n",
            "Positives Precision: 84.0\n",
            "Positives F1: 83.8\n",
            "Distance:  0.05\n",
            "Max cluster size:  893\n",
            "Median cluster size:  2.0\n",
            "Avg cluster size: 4.94\n"
          ],
          "name": "stdout"
        }
      ]
    },
    {
      "cell_type": "code",
      "metadata": {
        "id": "KCXJgqch4gqu",
        "colab": {
          "base_uri": "https://localhost:8080/",
          "height": 69
        },
        "outputId": "68454544-e74f-4de0-b145-e9e3f5095332"
      },
      "source": [
        "\"\"\"from purano.io import write_markup_tsv\n",
        "submission_0527_bert = form_submission(test_markup, test_0527_bert_embeddings, test_0527_records, 0.37, \"0527\")\n",
        "submission_0529_bert = form_submission(test_markup, test_0529_bert_embeddings, test_0529_records, 0.37, \"0529\")\n",
        "full_submission_bert = submission_0527_bert + submission_0529_bert\n",
        "write_markup_tsv(full_submission_bert, \"answer.txt\", res_key=\"quality\")\n",
        "!rm -f submission_bert.zip\n",
        "!zip submission_bert.zip answer.txt\"\"\""
      ],
      "execution_count": null,
      "outputs": [
        {
          "output_type": "execute_result",
          "data": {
            "application/vnd.google.colaboratory.intrinsic+json": {
              "type": "string"
            },
            "text/plain": [
              "'from purano.io import write_markup_tsv\\nsubmission_0527_bert = form_submission(test_markup, test_0527_bert_embeddings, test_0527_records, 0.37, \"0527\")\\nsubmission_0529_bert = form_submission(test_markup, test_0529_bert_embeddings, test_0529_records, 0.37, \"0529\")\\nfull_submission_bert = submission_0527_bert + submission_0529_bert\\nwrite_markup_tsv(full_submission_bert, \"answer.txt\", res_key=\"quality\")\\n!rm -f submission_bert.zip\\n!zip submission_bert.zip answer.txt'"
            ]
          },
          "metadata": {
            "tags": []
          },
          "execution_count": 28
        }
      ]
    },
    {
      "cell_type": "code",
      "metadata": {
        "id": "QFZnzpzEdKAE"
      },
      "source": [
        "def get_quality_bert_and_use(markup, embeds, records, dist_threshold, print_result=False):\n",
        "    clustering_model = AgglomerativeClustering(\n",
        "        n_clusters=None,\n",
        "        distance_threshold=dist_threshold,\n",
        "        linkage=\"average\",\n",
        "        affinity=\"cosine\"\n",
        "    )\n",
        "\n",
        "    clustering_model.fit(embeds)\n",
        "    labels = clustering_model.labels_\n",
        "\n",
        "    idx2url = dict()\n",
        "    url2record = dict()\n",
        "    for i, record in enumerate(records):\n",
        "        idx2url[i] = record[\"url\"]\n",
        "        url2record[record[\"url\"]] = record\n",
        "\n",
        "    url2label = dict()\n",
        "    for i, label in enumerate(labels):\n",
        "        url2label[idx2url[i]] = label\n",
        "        \n",
        "    metrics = calc_metrics(markup, url2record, url2label)[0]\n",
        "    if print_result:\n",
        "        print()\n",
        "        print(\"Accuracy: {:.1f}\".format(metrics[\"accuracy\"] * 100.0))\n",
        "        print(\"Positives Recall: {:.1f}\".format(metrics[\"1\"][\"recall\"] * 100.0))\n",
        "        print(\"Positives Precision: {:.1f}\".format(metrics[\"1\"][\"precision\"] * 100.0))\n",
        "        print(\"Positives F1: {:.1f}\".format(metrics[\"1\"][\"f1-score\"] * 100.0))\n",
        "        print(\"Distance: \", dist_threshold)\n",
        "        sizes = list(Counter(labels).values())\n",
        "        print(\"Max cluster size: \", max(sizes))\n",
        "        print(\"Median cluster size: \", median(sizes))\n",
        "        print(\"Avg cluster size: {:.2f}\".format(mean(sizes)))\n",
        "        return\n",
        "    return metrics[\"1\"][\"f1-score\"]"
      ],
      "execution_count": null,
      "outputs": []
    },
    {
      "cell_type": "code",
      "metadata": {
        "id": "8KYSl24Ac7Im"
      },
      "source": [
        "train_bert_and_use_embeddings = np.concatenate((train_bert_embeddings, train_use_embeddings), axis=1)"
      ],
      "execution_count": null,
      "outputs": []
    },
    {
      "cell_type": "code",
      "metadata": {
        "colab": {
          "base_uri": "https://localhost:8080/"
        },
        "id": "w6hXSl87dDUH",
        "outputId": "9aff9e5f-f29b-4b99-ee30-e139e5d4fbdd"
      },
      "source": [
        "train_bert_and_use_embeddings.shape"
      ],
      "execution_count": null,
      "outputs": [
        {
          "output_type": "execute_result",
          "data": {
            "text/plain": [
              "(19380, 1280)"
            ]
          },
          "metadata": {
            "tags": []
          },
          "execution_count": 31
        }
      ]
    },
    {
      "cell_type": "code",
      "metadata": {
        "colab": {
          "base_uri": "https://localhost:8080/"
        },
        "id": "FpJK9kdTruCW",
        "outputId": "98d9267d-a30c-4f33-9730-0137741096ec"
      },
      "source": [
        "buf = np.linspace(0.01,0.10,15)\n",
        "buf"
      ],
      "execution_count": null,
      "outputs": [
        {
          "output_type": "execute_result",
          "data": {
            "text/plain": [
              "array([0.01      , 0.01642857, 0.02285714, 0.02928571, 0.03571429,\n",
              "       0.04214286, 0.04857143, 0.055     , 0.06142857, 0.06785714,\n",
              "       0.07428571, 0.08071429, 0.08714286, 0.09357143, 0.1       ])"
            ]
          },
          "metadata": {
            "tags": []
          },
          "execution_count": 32
        }
      ]
    },
    {
      "cell_type": "code",
      "metadata": {
        "colab": {
          "base_uri": "https://localhost:8080/"
        },
        "id": "xw0jW_WcdPDc",
        "outputId": "411bf649-eeb3-4b95-c0c5-aeb5f2c95cd2"
      },
      "source": [
        "for i in buf:\n",
        "  get_quality_bert_and_use(train_markup, train_bert_and_use_embeddings, train_records, i, print_result=True) #0.04857142857142858"
      ],
      "execution_count": 33,
      "outputs": [
        {
          "output_type": "stream",
          "text": [
            "\n",
            "Accuracy: 56.9\n",
            "Positives Recall: 12.5\n",
            "Positives Precision: 99.8\n",
            "Positives F1: 22.2\n",
            "Distance:  0.01\n",
            "Max cluster size:  33\n",
            "Median cluster size:  1\n",
            "Avg cluster size: 1.13\n",
            "\n",
            "Accuracy: 65.4\n",
            "Positives Recall: 30.2\n",
            "Positives Precision: 98.4\n",
            "Positives F1: 46.2\n",
            "Distance:  0.01642857142857143\n",
            "Max cluster size:  58\n",
            "Median cluster size:  1\n",
            "Avg cluster size: 1.34\n",
            "\n",
            "Accuracy: 73.7\n",
            "Positives Recall: 48.1\n",
            "Positives Precision: 96.9\n",
            "Positives F1: 64.3\n",
            "Distance:  0.02285714285714286\n",
            "Max cluster size:  93\n",
            "Median cluster size:  1\n",
            "Avg cluster size: 1.62\n",
            "\n",
            "Accuracy: 80.3\n",
            "Positives Recall: 63.4\n",
            "Positives Precision: 95.0\n",
            "Positives F1: 76.0\n",
            "Distance:  0.02928571428571429\n",
            "Max cluster size:  141\n",
            "Median cluster size:  1.0\n",
            "Avg cluster size: 1.96\n",
            "\n",
            "Accuracy: 84.2\n",
            "Positives Recall: 74.4\n",
            "Positives Precision: 92.0\n",
            "Positives F1: 82.3\n",
            "Distance:  0.03571428571428572\n",
            "Max cluster size:  344\n",
            "Median cluster size:  1.0\n",
            "Avg cluster size: 2.39\n",
            "\n",
            "Accuracy: 85.4\n",
            "Positives Recall: 80.0\n",
            "Positives Precision: 89.3\n",
            "Positives F1: 84.4\n",
            "Distance:  0.04214285714285715\n",
            "Max cluster size:  570\n",
            "Median cluster size:  1.0\n",
            "Avg cluster size: 2.97\n",
            "\n",
            "Accuracy: 85.5\n",
            "Positives Recall: 83.5\n",
            "Positives Precision: 86.6\n",
            "Positives F1: 85.0\n",
            "Distance:  0.04857142857142858\n",
            "Max cluster size:  809\n",
            "Median cluster size:  2\n",
            "Avg cluster size: 3.78\n",
            "\n",
            "Accuracy: 85.1\n",
            "Positives Recall: 86.0\n",
            "Positives Precision: 84.0\n",
            "Positives F1: 85.0\n",
            "Distance:  0.05500000000000001\n",
            "Max cluster size:  838\n",
            "Median cluster size:  2.0\n",
            "Avg cluster size: 4.86\n",
            "\n",
            "Accuracy: 83.5\n",
            "Positives Recall: 87.8\n",
            "Positives Precision: 80.5\n",
            "Positives F1: 84.0\n",
            "Distance:  0.06142857142857144\n",
            "Max cluster size:  1242\n",
            "Median cluster size:  2\n",
            "Avg cluster size: 6.31\n",
            "\n",
            "Accuracy: 81.7\n",
            "Positives Recall: 90.0\n",
            "Positives Precision: 76.9\n",
            "Positives F1: 82.9\n",
            "Distance:  0.06785714285714287\n",
            "Max cluster size:  1762\n",
            "Median cluster size:  3.0\n",
            "Avg cluster size: 8.34\n",
            "\n",
            "Accuracy: 80.6\n",
            "Positives Recall: 90.6\n",
            "Positives Precision: 75.1\n",
            "Positives F1: 82.1\n",
            "Distance:  0.07428571428571429\n",
            "Max cluster size:  1762\n",
            "Median cluster size:  3.0\n",
            "Avg cluster size: 10.81\n",
            "\n",
            "Accuracy: 78.2\n",
            "Positives Recall: 91.7\n",
            "Positives Precision: 71.8\n",
            "Positives F1: 80.5\n",
            "Distance:  0.08071428571428572\n",
            "Max cluster size:  3013\n",
            "Median cluster size:  3\n",
            "Avg cluster size: 14.74\n",
            "\n",
            "Accuracy: 77.0\n",
            "Positives Recall: 92.4\n",
            "Positives Precision: 70.3\n",
            "Positives F1: 79.8\n",
            "Distance:  0.08714285714285715\n",
            "Max cluster size:  3183\n",
            "Median cluster size:  4.0\n",
            "Avg cluster size: 19.58\n",
            "\n",
            "Accuracy: 76.1\n",
            "Positives Recall: 92.8\n",
            "Positives Precision: 69.2\n",
            "Positives F1: 79.3\n",
            "Distance:  0.09357142857142857\n",
            "Max cluster size:  3276\n",
            "Median cluster size:  4.0\n",
            "Avg cluster size: 25.84\n",
            "\n",
            "Accuracy: 75.1\n",
            "Positives Recall: 93.0\n",
            "Positives Precision: 68.0\n",
            "Positives F1: 78.6\n",
            "Distance:  0.1\n",
            "Max cluster size:  3295\n",
            "Median cluster size:  4\n",
            "Avg cluster size: 34.55\n"
          ],
          "name": "stdout"
        }
      ]
    },
    {
      "cell_type": "code",
      "metadata": {
        "id": "qKnk2bZ8GzOR"
      },
      "source": [
        "train_use_and_bert_embeddings = np.concatenate((train_use_embeddings, train_bert_embeddings), axis=1)"
      ],
      "execution_count": 34,
      "outputs": []
    },
    {
      "cell_type": "code",
      "metadata": {
        "id": "S3RnPR5MG-U2",
        "colab": {
          "base_uri": "https://localhost:8080/"
        },
        "outputId": "abd3c6c0-b571-4270-f070-67c2f39dca2a"
      },
      "source": [
        "buf = np.linspace(0.1,0.5,15)\n",
        "buf"
      ],
      "execution_count": 35,
      "outputs": [
        {
          "output_type": "execute_result",
          "data": {
            "text/plain": [
              "array([0.1       , 0.12857143, 0.15714286, 0.18571429, 0.21428571,\n",
              "       0.24285714, 0.27142857, 0.3       , 0.32857143, 0.35714286,\n",
              "       0.38571429, 0.41428571, 0.44285714, 0.47142857, 0.5       ])"
            ]
          },
          "metadata": {
            "tags": []
          },
          "execution_count": 35
        }
      ]
    },
    {
      "cell_type": "code",
      "metadata": {
        "colab": {
          "base_uri": "https://localhost:8080/"
        },
        "id": "LH9ilkiKSW-o",
        "outputId": "2b11ca40-8a9a-4694-a496-3c2d3467dc54"
      },
      "source": [
        "get_quality_bert_and_use(train_markup, train_use_and_bert_embeddings, train_records, 0.0485, print_result=True)"
      ],
      "execution_count": 37,
      "outputs": [
        {
          "output_type": "stream",
          "text": [
            "\n",
            "Accuracy: 85.5\n",
            "Positives Recall: 83.5\n",
            "Positives Precision: 86.6\n",
            "Positives F1: 85.0\n",
            "Distance:  0.0485\n",
            "Max cluster size:  809\n",
            "Median cluster size:  2.0\n",
            "Avg cluster size: 3.77\n"
          ],
          "name": "stdout"
        }
      ]
    },
    {
      "cell_type": "markdown",
      "metadata": {
        "id": "5YsTwjeOUvu5"
      },
      "source": [
        "Accuracy: 89.3\n",
        "\n",
        "Positives Recall: 92.5\n",
        "\n",
        "Positives Precision: 86.7\n",
        "\n",
        "Positives F1: 89.5"
      ]
    },
    {
      "cell_type": "code",
      "metadata": {
        "id": "l11SQyVgHWFV",
        "colab": {
          "base_uri": "https://localhost:8080/",
          "height": 1000
        },
        "outputId": "29fc0ca4-5f53-4ad3-db8c-63d6730fb97f"
      },
      "source": [
        "for i in buf:\n",
        "  get_quality_bert_and_use(train_markup, train_use_and_bert_embeddings, train_records, i, print_result=True)"
      ],
      "execution_count": 36,
      "outputs": [
        {
          "output_type": "stream",
          "text": [
            "\n",
            "Accuracy: 75.1\n",
            "Positives Recall: 93.0\n",
            "Positives Precision: 68.0\n",
            "Positives F1: 78.6\n",
            "Distance:  0.1\n",
            "Max cluster size:  3295\n",
            "Median cluster size:  4\n",
            "Avg cluster size: 34.55\n",
            "\n",
            "Accuracy: 67.1\n",
            "Positives Recall: 95.0\n",
            "Positives Precision: 60.5\n",
            "Positives F1: 74.0\n",
            "Distance:  0.1285714285714286\n",
            "Max cluster size:  7109\n",
            "Median cluster size:  5.0\n",
            "Avg cluster size: 118.17\n",
            "\n",
            "Accuracy: 54.7\n",
            "Positives Recall: 99.5\n",
            "Positives Precision: 52.0\n",
            "Positives F1: 68.4\n",
            "Distance:  0.15714285714285714\n",
            "Max cluster size:  16914\n",
            "Median cluster size:  4.0\n",
            "Avg cluster size: 358.89\n",
            "\n",
            "Accuracy: 49.4\n",
            "Positives Recall: 100.0\n",
            "Positives Precision: 49.3\n",
            "Positives F1: 66.0\n",
            "Distance:  0.18571428571428572\n",
            "Max cluster size:  19318\n",
            "Median cluster size:  2.0\n",
            "Avg cluster size: 969.00\n",
            "\n",
            "Accuracy: 49.2\n",
            "Positives Recall: 100.0\n",
            "Positives Precision: 49.2\n",
            "Positives F1: 66.0\n",
            "Distance:  0.2142857142857143\n",
            "Max cluster size:  19372\n",
            "Median cluster size:  1\n",
            "Avg cluster size: 2768.57\n",
            "\n",
            "Accuracy: 49.2\n",
            "Positives Recall: 100.0\n",
            "Positives Precision: 49.2\n",
            "Positives F1: 66.0\n",
            "Distance:  0.24285714285714288\n",
            "Max cluster size:  19376\n",
            "Median cluster size:  3\n",
            "Avg cluster size: 6460.00\n"
          ],
          "name": "stdout"
        },
        {
          "output_type": "stream",
          "text": [
            "/usr/local/lib/python3.7/dist-packages/sklearn/metrics/_classification.py:1272: UndefinedMetricWarning: Precision and F-score are ill-defined and being set to 0.0 in labels with no predicted samples. Use `zero_division` parameter to control this behavior.\n",
            "  _warn_prf(average, modifier, msg_start, len(result))\n"
          ],
          "name": "stderr"
        },
        {
          "output_type": "stream",
          "text": [
            "\n",
            "Accuracy: 49.2\n",
            "Positives Recall: 100.0\n",
            "Positives Precision: 49.2\n",
            "Positives F1: 66.0\n",
            "Distance:  0.27142857142857146\n",
            "Max cluster size:  19380\n",
            "Median cluster size:  19380\n",
            "Avg cluster size: 19380.00\n"
          ],
          "name": "stdout"
        },
        {
          "output_type": "stream",
          "text": [
            "/usr/local/lib/python3.7/dist-packages/sklearn/metrics/_classification.py:1272: UndefinedMetricWarning: Precision and F-score are ill-defined and being set to 0.0 in labels with no predicted samples. Use `zero_division` parameter to control this behavior.\n",
            "  _warn_prf(average, modifier, msg_start, len(result))\n"
          ],
          "name": "stderr"
        },
        {
          "output_type": "stream",
          "text": [
            "\n",
            "Accuracy: 49.2\n",
            "Positives Recall: 100.0\n",
            "Positives Precision: 49.2\n",
            "Positives F1: 66.0\n",
            "Distance:  0.30000000000000004\n",
            "Max cluster size:  19380\n",
            "Median cluster size:  19380\n",
            "Avg cluster size: 19380.00\n"
          ],
          "name": "stdout"
        },
        {
          "output_type": "error",
          "ename": "KeyboardInterrupt",
          "evalue": "ignored",
          "traceback": [
            "\u001b[0;31m---------------------------------------------------------------------------\u001b[0m",
            "\u001b[0;31mKeyboardInterrupt\u001b[0m                         Traceback (most recent call last)",
            "\u001b[0;32m<ipython-input-36-c51662019286>\u001b[0m in \u001b[0;36m<module>\u001b[0;34m()\u001b[0m\n\u001b[1;32m      1\u001b[0m \u001b[0;32mfor\u001b[0m \u001b[0mi\u001b[0m \u001b[0;32min\u001b[0m \u001b[0mbuf\u001b[0m\u001b[0;34m:\u001b[0m\u001b[0;34m\u001b[0m\u001b[0;34m\u001b[0m\u001b[0m\n\u001b[0;32m----> 2\u001b[0;31m   \u001b[0mget_quality_bert_and_use\u001b[0m\u001b[0;34m(\u001b[0m\u001b[0mtrain_markup\u001b[0m\u001b[0;34m,\u001b[0m \u001b[0mtrain_use_and_bert_embeddings\u001b[0m\u001b[0;34m,\u001b[0m \u001b[0mtrain_records\u001b[0m\u001b[0;34m,\u001b[0m \u001b[0mi\u001b[0m\u001b[0;34m,\u001b[0m \u001b[0mprint_result\u001b[0m\u001b[0;34m=\u001b[0m\u001b[0;32mTrue\u001b[0m\u001b[0;34m)\u001b[0m\u001b[0;34m\u001b[0m\u001b[0;34m\u001b[0m\u001b[0m\n\u001b[0m",
            "\u001b[0;32m<ipython-input-29-fd51b615f841>\u001b[0m in \u001b[0;36mget_quality_bert_and_use\u001b[0;34m(markup, embeds, records, dist_threshold, print_result)\u001b[0m\n\u001b[1;32m      7\u001b[0m     )\n\u001b[1;32m      8\u001b[0m \u001b[0;34m\u001b[0m\u001b[0m\n\u001b[0;32m----> 9\u001b[0;31m     \u001b[0mclustering_model\u001b[0m\u001b[0;34m.\u001b[0m\u001b[0mfit\u001b[0m\u001b[0;34m(\u001b[0m\u001b[0membeds\u001b[0m\u001b[0;34m)\u001b[0m\u001b[0;34m\u001b[0m\u001b[0;34m\u001b[0m\u001b[0m\n\u001b[0m\u001b[1;32m     10\u001b[0m     \u001b[0mlabels\u001b[0m \u001b[0;34m=\u001b[0m \u001b[0mclustering_model\u001b[0m\u001b[0;34m.\u001b[0m\u001b[0mlabels_\u001b[0m\u001b[0;34m\u001b[0m\u001b[0;34m\u001b[0m\u001b[0m\n\u001b[1;32m     11\u001b[0m \u001b[0;34m\u001b[0m\u001b[0m\n",
            "\u001b[0;32m/usr/local/lib/python3.7/dist-packages/sklearn/cluster/_agglomerative.py\u001b[0m in \u001b[0;36mfit\u001b[0;34m(self, X, y)\u001b[0m\n\u001b[1;32m    857\u001b[0m                                          \u001b[0mn_clusters\u001b[0m\u001b[0;34m=\u001b[0m\u001b[0mn_clusters\u001b[0m\u001b[0;34m,\u001b[0m\u001b[0;34m\u001b[0m\u001b[0;34m\u001b[0m\u001b[0m\n\u001b[1;32m    858\u001b[0m                                          \u001b[0mreturn_distance\u001b[0m\u001b[0;34m=\u001b[0m\u001b[0mreturn_distance\u001b[0m\u001b[0;34m,\u001b[0m\u001b[0;34m\u001b[0m\u001b[0;34m\u001b[0m\u001b[0m\n\u001b[0;32m--> 859\u001b[0;31m                                          **kwargs)\n\u001b[0m\u001b[1;32m    860\u001b[0m         (self.children_,\n\u001b[1;32m    861\u001b[0m          \u001b[0mself\u001b[0m\u001b[0;34m.\u001b[0m\u001b[0mn_connected_components_\u001b[0m\u001b[0;34m,\u001b[0m\u001b[0;34m\u001b[0m\u001b[0;34m\u001b[0m\u001b[0m\n",
            "\u001b[0;32m/usr/local/lib/python3.7/dist-packages/joblib/memory.py\u001b[0m in \u001b[0;36m__call__\u001b[0;34m(self, *args, **kwargs)\u001b[0m\n\u001b[1;32m    350\u001b[0m \u001b[0;34m\u001b[0m\u001b[0m\n\u001b[1;32m    351\u001b[0m     \u001b[0;32mdef\u001b[0m \u001b[0m__call__\u001b[0m\u001b[0;34m(\u001b[0m\u001b[0mself\u001b[0m\u001b[0;34m,\u001b[0m \u001b[0;34m*\u001b[0m\u001b[0margs\u001b[0m\u001b[0;34m,\u001b[0m \u001b[0;34m**\u001b[0m\u001b[0mkwargs\u001b[0m\u001b[0;34m)\u001b[0m\u001b[0;34m:\u001b[0m\u001b[0;34m\u001b[0m\u001b[0;34m\u001b[0m\u001b[0m\n\u001b[0;32m--> 352\u001b[0;31m         \u001b[0;32mreturn\u001b[0m \u001b[0mself\u001b[0m\u001b[0;34m.\u001b[0m\u001b[0mfunc\u001b[0m\u001b[0;34m(\u001b[0m\u001b[0;34m*\u001b[0m\u001b[0margs\u001b[0m\u001b[0;34m,\u001b[0m \u001b[0;34m**\u001b[0m\u001b[0mkwargs\u001b[0m\u001b[0;34m)\u001b[0m\u001b[0;34m\u001b[0m\u001b[0;34m\u001b[0m\u001b[0m\n\u001b[0m\u001b[1;32m    353\u001b[0m \u001b[0;34m\u001b[0m\u001b[0m\n\u001b[1;32m    354\u001b[0m     \u001b[0;32mdef\u001b[0m \u001b[0mcall_and_shelve\u001b[0m\u001b[0;34m(\u001b[0m\u001b[0mself\u001b[0m\u001b[0;34m,\u001b[0m \u001b[0;34m*\u001b[0m\u001b[0margs\u001b[0m\u001b[0;34m,\u001b[0m \u001b[0;34m**\u001b[0m\u001b[0mkwargs\u001b[0m\u001b[0;34m)\u001b[0m\u001b[0;34m:\u001b[0m\u001b[0;34m\u001b[0m\u001b[0;34m\u001b[0m\u001b[0m\n",
            "\u001b[0;32m/usr/local/lib/python3.7/dist-packages/sklearn/cluster/_agglomerative.py\u001b[0m in \u001b[0;36m_average_linkage\u001b[0;34m(*args, **kwargs)\u001b[0m\n\u001b[1;32m    587\u001b[0m \u001b[0;32mdef\u001b[0m \u001b[0m_average_linkage\u001b[0m\u001b[0;34m(\u001b[0m\u001b[0;34m*\u001b[0m\u001b[0margs\u001b[0m\u001b[0;34m,\u001b[0m \u001b[0;34m**\u001b[0m\u001b[0mkwargs\u001b[0m\u001b[0;34m)\u001b[0m\u001b[0;34m:\u001b[0m\u001b[0;34m\u001b[0m\u001b[0;34m\u001b[0m\u001b[0m\n\u001b[1;32m    588\u001b[0m     \u001b[0mkwargs\u001b[0m\u001b[0;34m[\u001b[0m\u001b[0;34m'linkage'\u001b[0m\u001b[0;34m]\u001b[0m \u001b[0;34m=\u001b[0m \u001b[0;34m'average'\u001b[0m\u001b[0;34m\u001b[0m\u001b[0;34m\u001b[0m\u001b[0m\n\u001b[0;32m--> 589\u001b[0;31m     \u001b[0;32mreturn\u001b[0m \u001b[0mlinkage_tree\u001b[0m\u001b[0;34m(\u001b[0m\u001b[0;34m*\u001b[0m\u001b[0margs\u001b[0m\u001b[0;34m,\u001b[0m \u001b[0;34m**\u001b[0m\u001b[0mkwargs\u001b[0m\u001b[0;34m)\u001b[0m\u001b[0;34m\u001b[0m\u001b[0;34m\u001b[0m\u001b[0m\n\u001b[0m\u001b[1;32m    590\u001b[0m \u001b[0;34m\u001b[0m\u001b[0m\n\u001b[1;32m    591\u001b[0m \u001b[0;34m\u001b[0m\u001b[0m\n",
            "\u001b[0;32m/usr/local/lib/python3.7/dist-packages/sklearn/cluster/_agglomerative.py\u001b[0m in \u001b[0;36mlinkage_tree\u001b[0;34m(X, connectivity, n_clusters, linkage, affinity, return_distance)\u001b[0m\n\u001b[1;32m    466\u001b[0m             \u001b[0mi\u001b[0m\u001b[0;34m,\u001b[0m \u001b[0mj\u001b[0m \u001b[0;34m=\u001b[0m \u001b[0mnp\u001b[0m\u001b[0;34m.\u001b[0m\u001b[0mtriu_indices\u001b[0m\u001b[0;34m(\u001b[0m\u001b[0mX\u001b[0m\u001b[0;34m.\u001b[0m\u001b[0mshape\u001b[0m\u001b[0;34m[\u001b[0m\u001b[0;36m0\u001b[0m\u001b[0;34m]\u001b[0m\u001b[0;34m,\u001b[0m \u001b[0mk\u001b[0m\u001b[0;34m=\u001b[0m\u001b[0;36m1\u001b[0m\u001b[0;34m)\u001b[0m\u001b[0;34m\u001b[0m\u001b[0;34m\u001b[0m\u001b[0m\n\u001b[1;32m    467\u001b[0m             \u001b[0mX\u001b[0m \u001b[0;34m=\u001b[0m \u001b[0mX\u001b[0m\u001b[0;34m[\u001b[0m\u001b[0mi\u001b[0m\u001b[0;34m,\u001b[0m \u001b[0mj\u001b[0m\u001b[0;34m]\u001b[0m\u001b[0;34m\u001b[0m\u001b[0;34m\u001b[0m\u001b[0m\n\u001b[0;32m--> 468\u001b[0;31m         \u001b[0mout\u001b[0m \u001b[0;34m=\u001b[0m \u001b[0mhierarchy\u001b[0m\u001b[0;34m.\u001b[0m\u001b[0mlinkage\u001b[0m\u001b[0;34m(\u001b[0m\u001b[0mX\u001b[0m\u001b[0;34m,\u001b[0m \u001b[0mmethod\u001b[0m\u001b[0;34m=\u001b[0m\u001b[0mlinkage\u001b[0m\u001b[0;34m,\u001b[0m \u001b[0mmetric\u001b[0m\u001b[0;34m=\u001b[0m\u001b[0maffinity\u001b[0m\u001b[0;34m)\u001b[0m\u001b[0;34m\u001b[0m\u001b[0;34m\u001b[0m\u001b[0m\n\u001b[0m\u001b[1;32m    469\u001b[0m         \u001b[0mchildren_\u001b[0m \u001b[0;34m=\u001b[0m \u001b[0mout\u001b[0m\u001b[0;34m[\u001b[0m\u001b[0;34m:\u001b[0m\u001b[0;34m,\u001b[0m \u001b[0;34m:\u001b[0m\u001b[0;36m2\u001b[0m\u001b[0;34m]\u001b[0m\u001b[0;34m.\u001b[0m\u001b[0mastype\u001b[0m\u001b[0;34m(\u001b[0m\u001b[0mnp\u001b[0m\u001b[0;34m.\u001b[0m\u001b[0mint\u001b[0m\u001b[0;34m,\u001b[0m \u001b[0mcopy\u001b[0m\u001b[0;34m=\u001b[0m\u001b[0;32mFalse\u001b[0m\u001b[0;34m)\u001b[0m\u001b[0;34m\u001b[0m\u001b[0;34m\u001b[0m\u001b[0m\n\u001b[1;32m    470\u001b[0m \u001b[0;34m\u001b[0m\u001b[0m\n",
            "\u001b[0;32m/usr/local/lib/python3.7/dist-packages/scipy/cluster/hierarchy.py\u001b[0m in \u001b[0;36mlinkage\u001b[0;34m(y, method, metric, optimal_ordering)\u001b[0m\n\u001b[1;32m   1054\u001b[0m                          \u001b[0;34m'matrix looks suspiciously like an uncondensed '\u001b[0m\u001b[0;34m\u001b[0m\u001b[0;34m\u001b[0m\u001b[0m\n\u001b[1;32m   1055\u001b[0m                          'distance matrix')\n\u001b[0;32m-> 1056\u001b[0;31m         \u001b[0my\u001b[0m \u001b[0;34m=\u001b[0m \u001b[0mdistance\u001b[0m\u001b[0;34m.\u001b[0m\u001b[0mpdist\u001b[0m\u001b[0;34m(\u001b[0m\u001b[0my\u001b[0m\u001b[0;34m,\u001b[0m \u001b[0mmetric\u001b[0m\u001b[0;34m)\u001b[0m\u001b[0;34m\u001b[0m\u001b[0;34m\u001b[0m\u001b[0m\n\u001b[0m\u001b[1;32m   1057\u001b[0m     \u001b[0;32melse\u001b[0m\u001b[0;34m:\u001b[0m\u001b[0;34m\u001b[0m\u001b[0;34m\u001b[0m\u001b[0m\n\u001b[1;32m   1058\u001b[0m         \u001b[0;32mraise\u001b[0m \u001b[0mValueError\u001b[0m\u001b[0;34m(\u001b[0m\u001b[0;34m\"`y` must be 1 or 2 dimensional.\"\u001b[0m\u001b[0;34m)\u001b[0m\u001b[0;34m\u001b[0m\u001b[0;34m\u001b[0m\u001b[0m\n",
            "\u001b[0;32m/usr/local/lib/python3.7/dist-packages/scipy/spatial/distance.py\u001b[0m in \u001b[0;36mpdist\u001b[0;34m(X, metric, *args, **kwargs)\u001b[0m\n\u001b[1;32m   2064\u001b[0m             pdist_fn = getattr(_distance_wrap,\n\u001b[1;32m   2065\u001b[0m                                \"pdist_%s_%s_wrap\" % (metric_name, typ))\n\u001b[0;32m-> 2066\u001b[0;31m             \u001b[0mpdist_fn\u001b[0m\u001b[0;34m(\u001b[0m\u001b[0mX\u001b[0m\u001b[0;34m,\u001b[0m \u001b[0mdm\u001b[0m\u001b[0;34m,\u001b[0m \u001b[0;34m**\u001b[0m\u001b[0mkwargs\u001b[0m\u001b[0;34m)\u001b[0m\u001b[0;34m\u001b[0m\u001b[0;34m\u001b[0m\u001b[0m\n\u001b[0m\u001b[1;32m   2067\u001b[0m             \u001b[0;32mreturn\u001b[0m \u001b[0mdm\u001b[0m\u001b[0;34m\u001b[0m\u001b[0;34m\u001b[0m\u001b[0m\n\u001b[1;32m   2068\u001b[0m \u001b[0;34m\u001b[0m\u001b[0m\n",
            "\u001b[0;31mKeyboardInterrupt\u001b[0m: "
          ]
        }
      ]
    },
    {
      "cell_type": "code",
      "metadata": {
        "id": "vWJFo8DEKoD-"
      },
      "source": [
        ""
      ],
      "execution_count": null,
      "outputs": []
    }
  ]
}